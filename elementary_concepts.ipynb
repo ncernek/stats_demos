{
 "cells": [
  {
   "cell_type": "markdown",
   "metadata": {},
   "source": [
    "# Elementary Concepts\n",
    "source [online textbook by statsoft](http://www.statsoft.com/Textbook/Elementary-Statistics-Concepts)\n",
    "\n",
    "### the goal of scientific research\n",
    "to find relations between variables\n",
    "\n",
    "### correlational vs. experimental research\n",
    "* in correlational research, one observes phenomena then tries to find relations between variables (all of whom are independent)\n",
    "* In experimental research, one manipulates an independent variable to change a dependent variable.\n",
    "* dependent means that it is affected by another\n",
    "\n",
    "### variable types\n",
    "* nominal: only provides qualitative difference\n",
    "* ordinal: provides an order to variables (e.g. 1st>2nd>3rd)\n",
    "* interval: provides an order, and quantifies the sizes between them (e.g. 1.5 < 2.5 < 3)\n",
    "* ratio: has all the properties of interval variables, and has an identifiable absolute zero point (like degrees Kelvin)\n",
    "\n",
    "### two basic features of every relation between variables\n",
    "* magnitude (\"strength\")\n",
    "* reliability (\"statistical significance\"): it says how probable it is that a similar relation would be found if the experiment was replicated with other samples drawn from the same population.\n",
    "    * measured with a p-value\n",
    "* generally, the larger the magnitude of the relation between variables, the more reliable the relation\n",
    "\n",
    "### what is statistical significance?\n",
    "* statistical significance is the extent to which our observed result is reliable, and can be considered \"representative of the population\"\n",
    "* how to read a p-value: the lower the p-value, the more we can believe that the observed relation in the sample is a reliable indicator of the relation in the population. \n",
    "* remember: claiming that a result is statistically significant is ultimately arbitrary. p-value thresholds are based on precedent and general trends, but ultimately they are based on the degree of tolerance for error that the researcher has.\n",
    "* warning: the more analyses you perform, the more likely it is that you will get results that are significant at the p <= 0.05 level, even though the values may be completely random.\n",
    "\n",
    "### why significance of a relation between variables depends on sample size\n",
    "* with a small sample size, the probability of obtaining strong relation is high simply because the permutation of possible values is low\n",
    "* to think of it another way, drawing a small sample from a population is far less likely to reveal actual relationships in the population, and more likely to either hide true relations or overplay false relations\n",
    "* the probability of a random deviation of a particular size (from the population mean), decreases with the increase in the sample size.\n",
    "\n",
    "### relationship strength and sample size\n",
    "* calculations of statistical significance depend on sample size. calculations automatically exclude weak relations when the sample size is small from being significant.\n",
    "* the smaller the relation between variables, the larger the sample size that is necessary to prove it significant. for example, imagine how many tosses would be necessary to prove that a coin is asymmetrical if its bias were only 0.001%!\n",
    "\n",
    "### measure the magnitude of relations\n",
    "* general approach: evaluate the observed relation by comparing it to the \"maximum imaginable relation\" for those specific variables\n",
    "\n",
    "example with gender and weight\n",
    "* imagine you have 100 males whose mean weight is 150, and 100 females whose mean weight is 130.\n",
    "* the grand mean is 140, and the deviation of each individual score contains a component due to gender equal to 10. this in a sense tells us the relation between gender and weight, but on its own it sucks because it doesn't take into account the variation in weight.\n",
    "* now calculate the \"maximum imaginable relation\": assume that there is no variation in weight, and thus the only explanation for the difference between the individuals at 130 and those at 150 is due to gender. as such, gender is perfectly correlated with weight.\n",
    "* now pretend our sample has a weight variation of 1000 across both genders. at this point the mean difference between males and females is negligible.\n",
    "* this relation is essentially a ratio of the part of the overall differentiation of the weight that can be accounted for by gender to the overall differentiation of the weight\n",
    "\n",
    "### calculating significance given magnitude and sample size\n",
    "question to answer: \"how likely it is to obtain a relation of a given magnitude (or larger) from a sample of a given size, assuming that there is no such relation between those variables in the population?\"\n",
    "* significance depends mostly on sample size\n",
    "* we need a function that represents the relationship between \"magnitude\" and \"significance\" of relations between two variables, depending on the sample size\n",
    "\n",
    "### importance of the normal distribution\n",
    "* can be defined simply with a mean and SD\n",
    "* 68% scores fall within 1 SD of mean\n",
    "* many phenomena occur along this distribution\n",
    "* interesting hack: even if a phenomenon is not normally distributed, if your sample size is large enough it is acceptable to use parametric stats\n",
    "    * this hack works because as the sample size increases, the shape of the sampling distribution approaches normal shape, even if the distribution of the variable in question is not normal\n",
    "    * this principle has a name: \"central limit theorem\" \n",
    "    * Monte-Carlo experiments have tested the errors of using parametric stats on non-normal data, and shown that the errors are not that big"
   ]
  },
  {
   "cell_type": "markdown",
   "metadata": {},
   "source": [
    "# Basic Statistics\n",
    "source [online textbook by statsoft](http://www.statsoft.com/Textbook/Basic-Statistics)\n",
    "\n"
   ]
  },
  {
   "cell_type": "code",
   "execution_count": null,
   "metadata": {},
   "outputs": [],
   "source": []
  }
 ],
 "metadata": {
  "kernelspec": {
   "display_name": "Python 3",
   "language": "python",
   "name": "python3"
  },
  "language_info": {
   "codemirror_mode": {
    "name": "ipython",
    "version": 3
   },
   "file_extension": ".py",
   "mimetype": "text/x-python",
   "name": "python",
   "nbconvert_exporter": "python",
   "pygments_lexer": "ipython3",
   "version": "3.6.2"
  },
  "toc": {
   "nav_menu": {},
   "number_sections": false,
   "sideBar": true,
   "skip_h1_title": false,
   "toc_cell": false,
   "toc_position": {},
   "toc_section_display": "block",
   "toc_window_display": false
  }
 },
 "nbformat": 4,
 "nbformat_minor": 2
}
