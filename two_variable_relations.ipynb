{
 "cells": [
  {
   "cell_type": "markdown",
   "metadata": {
    "toc": true
   },
   "source": [
    "<h1>Table of Contents<span class=\"tocSkip\"></span></h1>\n",
    "<div class=\"toc\" style=\"margin-top: 1em;\"><ul class=\"toc-item\"><li><span><a href=\"#A-Guide-to-Two-Variable-Relations\" data-toc-modified-id=\"A-Guide-to-Two-Variable-Relations-1\">A Guide to Two Variable Relations</a></span></li><li><span><a href=\"#A-and-B-are-nominal\" data-toc-modified-id=\"A-and-B-are-nominal-2\">A and B are nominal</a></span><ul class=\"toc-item\"><li><ul class=\"toc-item\"><li><span><a href=\"#common-solution:-Pearson-Chi-square\" data-toc-modified-id=\"common-solution:-Pearson-Chi-square-2.0.1\">common solution: Pearson Chi-square</a></span></li><li><span><a href=\"#for-magnitude-and-direction:-Fisher-Exact\" data-toc-modified-id=\"for-magnitude-and-direction:-Fisher-Exact-2.0.2\">for magnitude and direction: Fisher Exact</a></span></li><li><span><a href=\"#for-low-sample-size:-Yates-correction\" data-toc-modified-id=\"for-low-sample-size:-Yates-correction-2.0.3\">for low sample size: Yates correction</a></span></li><li><span><a href=\"#for-dependent-variables-(e.g.-before-and-after):-McNemar-Chi-square\" data-toc-modified-id=\"for-dependent-variables-(e.g.-before-and-after):-McNemar-Chi-square-2.0.4\">for dependent variables (e.g. before and after): McNemar Chi-square</a></span></li><li><span><a href=\"#to-calculate-magnitude-(but-not-direction)-for-3-or-more-categories:-Cramer's-V\" data-toc-modified-id=\"to-calculate-magnitude-(but-not-direction)-for-3-or-more-categories:-Cramer's-V-2.0.5\">to calculate magnitude (but not direction) for 3 or more categories: Cramer's V</a></span></li></ul></li></ul></li><li><span><a href=\"#A-is-nominal,-B-is-ordinal\" data-toc-modified-id=\"A-is-nominal,-B-is-ordinal-3\">A is nominal, B is ordinal</a></span><ul class=\"toc-item\"><li><ul class=\"toc-item\"><li><span><a href=\"#when-A-is-binary:-Kendall's-tau\" data-toc-modified-id=\"when-A-is-binary:-Kendall's-tau-3.0.1\">when A is binary: Kendall's tau</a></span></li><li><span><a href=\"#when-A-has-three-or-more-categories:-Kruskal–Wallis-analysis-of-ranks\" data-toc-modified-id=\"when-A-has-three-or-more-categories:-Kruskal–Wallis-analysis-of-ranks-3.0.2\">when A has three or more categories: Kruskal–Wallis analysis of ranks</a></span></li><li><span><a href=\"#when-A-has-three-categories-(alternate):-decision-tree-classifier\" data-toc-modified-id=\"when-A-has-three-categories-(alternate):-decision-tree-classifier-3.0.3\">when A has three categories (alternate): decision tree classifier</a></span></li></ul></li></ul></li><li><span><a href=\"#A-is-nominal,-B-is-interval\" data-toc-modified-id=\"A-is-nominal,-B-is-interval-4\">A is nominal, B is interval</a></span><ul class=\"toc-item\"><li><ul class=\"toc-item\"><li><span><a href=\"#common-solution:-t-test-for-independent-samples\" data-toc-modified-id=\"common-solution:-t-test-for-independent-samples-4.0.1\">common solution: t-test for independent samples</a></span></li><li><span><a href=\"#for-A-with-3-or-more-categories:-one-way-ANOVA\" data-toc-modified-id=\"for-A-with-3-or-more-categories:-one-way-ANOVA-4.0.2\">for A with 3 or more categories: one-way ANOVA</a></span><ul class=\"toc-item\"><li><span><a href=\"#run-post-hoc-test-to-determine-which-pairs-are-different:-Tukey’s-Honest-Significant-Difference\" data-toc-modified-id=\"run-post-hoc-test-to-determine-which-pairs-are-different:-Tukey’s-Honest-Significant-Difference-4.0.2.1\">run post hoc test to determine which pairs are different: Tukey’s Honest Significant Difference</a></span></li></ul></li><li><span><a href=\"#when-B-is-nonparametric:-Mann-Whitney-U\" data-toc-modified-id=\"when-B-is-nonparametric:-Mann-Whitney-U-4.0.3\">when B is nonparametric: Mann Whitney U</a></span></li><li><span><a href=\"#when-A-has-three-or-more-categories-and-B-is-nonparametric:-Kruskal-Wallis-analysis-of-ranks\" data-toc-modified-id=\"when-A-has-three-or-more-categories-and-B-is-nonparametric:-Kruskal-Wallis-analysis-of-ranks-4.0.4\">when A has three or more categories and B is nonparametric: Kruskal-Wallis analysis of ranks</a></span></li><li><span><a href=\"#when-categories-are-paired/dependent-(e.g.-before-and-after):-t-test-for-dependent-samples\" data-toc-modified-id=\"when-categories-are-paired/dependent-(e.g.-before-and-after):-t-test-for-dependent-samples-4.0.5\">when categories are paired/dependent (e.g. before and after): t-test for dependent samples</a></span></li></ul></li></ul></li><li><span><a href=\"#A-and-B-are-ordinal\" data-toc-modified-id=\"A-and-B-are-ordinal-5\">A and B are ordinal</a></span><ul class=\"toc-item\"><li><ul class=\"toc-item\"><li><span><a href=\"#Spearman-R\" data-toc-modified-id=\"Spearman-R-5.0.1\">Spearman R</a></span></li></ul></li></ul></li><li><span><a href=\"#A-is-ordinal,-B-is-interval\" data-toc-modified-id=\"A-is-ordinal,-B-is-interval-6\">A is ordinal, B is interval</a></span></li><li><span><a href=\"#A-and-B-are-interval-(ratio)\" data-toc-modified-id=\"A-and-B-are-interval-(ratio)-7\">A and B are interval (ratio)</a></span><ul class=\"toc-item\"><li><ul class=\"toc-item\"><li><span><a href=\"#common-solution:-Pearson-r\" data-toc-modified-id=\"common-solution:-Pearson-r-7.0.1\">common solution: Pearson r</a></span></li><li><span><a href=\"#for-nonlinear-relations:-log-transform-or-Spearman-r\" data-toc-modified-id=\"for-nonlinear-relations:-log-transform-or-Spearman-r-7.0.2\">for nonlinear relations: log-transform or Spearman r</a></span><ul class=\"toc-item\"><li><span><a href=\"#method-1:-transform-curve-to-linear\" data-toc-modified-id=\"method-1:-transform-curve-to-linear-7.0.2.1\">method 1: transform curve to linear</a></span></li><li><span><a href=\"#method-2:-use-nonparametric-test---Spearman-r\" data-toc-modified-id=\"method-2:-use-nonparametric-test---Spearman-r-7.0.2.2\">method 2: use nonparametric test - Spearman r</a></span></li></ul></li><li><span><a href=\"#for-non-homogeneous-groups:-K-means-clustering\" data-toc-modified-id=\"for-non-homogeneous-groups:-K-means-clustering-7.0.3\">for non-homogeneous groups: K means clustering</a></span><ul class=\"toc-item\"><li><span><a href=\"#redo-linear-regression-with-separate-clusters\" data-toc-modified-id=\"redo-linear-regression-with-separate-clusters-7.0.3.1\">redo linear regression with separate clusters</a></span></li></ul></li></ul></li></ul></li></ul></div>"
   ]
  },
  {
   "cell_type": "markdown",
   "metadata": {},
   "source": [
    "# A Guide to Two Variable Relations\n",
    "This is a demo of describing the relation between two variables for all combinations of:\n",
    "* nominal\n",
    "* ordinal\n",
    "* interval (assume that ratio will be treated similarly)\n",
    "\n",
    "Defining each relationship\n",
    "* sample size and distribution of each variable\n",
    "* reliability (significance)\n",
    "* magnitude\n",
    "* direction\n",
    "\n",
    "I have written brief explanations for each method, and included coded examples. \n",
    "\n",
    "[link to other places](#A-and-B-are-ordinal)"
   ]
  },
  {
   "cell_type": "code",
   "execution_count": 2,
   "metadata": {},
   "outputs": [
    {
     "name": "stderr",
     "output_type": "stream",
     "text": [
      "/Users/nico/code/pydata-env/lib/python3.6/site-packages/statsmodels/compat/pandas.py:56: FutureWarning: The pandas.core.datetools module is deprecated and will be removed in a future version. Please use the pandas.tseries module instead.\n",
      "  from pandas.core import datetools\n"
     ]
    }
   ],
   "source": [
    "import pandas as pd\n",
    "import numpy as np\n",
    "import scipy.stats as scis\n",
    "import statsmodels.api as sm\n",
    "\n",
    "import matplotlib.pyplot as plt\n",
    "import seaborn as sns\n",
    "sns.set_style(\"whitegrid\")\n",
    "%matplotlib inline"
   ]
  },
  {
   "cell_type": "markdown",
   "metadata": {},
   "source": [
    "![Chicago](images/chicago.jpg)\n",
    "\n",
    "---\n",
    "\n",
    "---\n",
    "\n",
    "\n",
    "# A and B are nominal "
   ]
  },
  {
   "cell_type": "markdown",
   "metadata": {},
   "source": [
    "### common solution: Pearson Chi-square\n",
    "Compare the expected frequencies (what you would see if there were no relation) to the actual frequencies.\n",
    "* assumption: sample size of a given frequency is at least 5\n",
    "* know that this does not take order of rows and columns into account\n",
    "* note: the statistic and p-value are sensitive to sample size. small deviations from expected frequencies will not be detected if sample is small.\n",
    "* alternatives: the Maximum-Likelihood Chi-square, Phi-square (2x2 only), tetrachoric correlation (2x2 only)\n",
    "\n",
    "[formula](http://stattrek.com/chi-square-test/independence.aspx?Tutorial=AP)"
   ]
  },
  {
   "cell_type": "code",
   "execution_count": 3,
   "metadata": {},
   "outputs": [
    {
     "data": {
      "text/html": [
       "<div>\n",
       "<style>\n",
       "    .dataframe thead tr:only-child th {\n",
       "        text-align: right;\n",
       "    }\n",
       "\n",
       "    .dataframe thead th {\n",
       "        text-align: left;\n",
       "    }\n",
       "\n",
       "    .dataframe tbody tr th {\n",
       "        vertical-align: top;\n",
       "    }\n",
       "</style>\n",
       "<table border=\"1\" class=\"dataframe\">\n",
       "  <thead>\n",
       "    <tr style=\"text-align: right;\">\n",
       "      <th></th>\n",
       "      <th>male</th>\n",
       "      <th>smoker</th>\n",
       "    </tr>\n",
       "  </thead>\n",
       "  <tbody>\n",
       "    <tr>\n",
       "      <th>0</th>\n",
       "      <td>0</td>\n",
       "      <td>0</td>\n",
       "    </tr>\n",
       "    <tr>\n",
       "      <th>1</th>\n",
       "      <td>1</td>\n",
       "      <td>0</td>\n",
       "    </tr>\n",
       "    <tr>\n",
       "      <th>2</th>\n",
       "      <td>1</td>\n",
       "      <td>1</td>\n",
       "    </tr>\n",
       "    <tr>\n",
       "      <th>3</th>\n",
       "      <td>0</td>\n",
       "      <td>0</td>\n",
       "    </tr>\n",
       "    <tr>\n",
       "      <th>4</th>\n",
       "      <td>0</td>\n",
       "      <td>1</td>\n",
       "    </tr>\n",
       "  </tbody>\n",
       "</table>\n",
       "</div>"
      ],
      "text/plain": [
       "   male  smoker\n",
       "0     0       0\n",
       "1     1       0\n",
       "2     1       1\n",
       "3     0       0\n",
       "4     0       1"
      ]
     },
     "execution_count": 3,
     "metadata": {},
     "output_type": "execute_result"
    }
   ],
   "source": [
    "smokers = pd.DataFrame({\n",
    "    'male':np.random.choice([1,0], 100, p=[.5,.5]),\n",
    "})\n",
    "\n",
    "def smoke(value):\n",
    "    if value == 0:\n",
    "        return np.random.choice([1,0], p=[.8,.2])\n",
    "    else:\n",
    "        return np.random.choice([1,0], p=[.5,.5])\n",
    "\n",
    "smokers['smoker'] = smokers.male.apply(smoke)\n",
    "\n",
    "smokers.head()"
   ]
  },
  {
   "cell_type": "code",
   "execution_count": 4,
   "metadata": {
    "scrolled": true
   },
   "outputs": [
    {
     "data": {
      "text/html": [
       "<div>\n",
       "<style>\n",
       "    .dataframe thead tr:only-child th {\n",
       "        text-align: right;\n",
       "    }\n",
       "\n",
       "    .dataframe thead th {\n",
       "        text-align: left;\n",
       "    }\n",
       "\n",
       "    .dataframe tbody tr th {\n",
       "        vertical-align: top;\n",
       "    }\n",
       "</style>\n",
       "<table border=\"1\" class=\"dataframe\">\n",
       "  <thead>\n",
       "    <tr style=\"text-align: right;\">\n",
       "      <th>smoker</th>\n",
       "      <th>0</th>\n",
       "      <th>1</th>\n",
       "    </tr>\n",
       "    <tr>\n",
       "      <th>male</th>\n",
       "      <th></th>\n",
       "      <th></th>\n",
       "    </tr>\n",
       "  </thead>\n",
       "  <tbody>\n",
       "    <tr>\n",
       "      <th>0</th>\n",
       "      <td>0.05</td>\n",
       "      <td>0.42</td>\n",
       "    </tr>\n",
       "    <tr>\n",
       "      <th>1</th>\n",
       "      <td>0.27</td>\n",
       "      <td>0.26</td>\n",
       "    </tr>\n",
       "  </tbody>\n",
       "</table>\n",
       "</div>"
      ],
      "text/plain": [
       "smoker     0     1\n",
       "male              \n",
       "0       0.05  0.42\n",
       "1       0.27  0.26"
      ]
     },
     "execution_count": 4,
     "metadata": {},
     "output_type": "execute_result"
    }
   ],
   "source": [
    "pd.crosstab(smokers.male, smokers.smoker, normalize=True)"
   ]
  },
  {
   "cell_type": "code",
   "execution_count": 5,
   "metadata": {
    "scrolled": true
   },
   "outputs": [
    {
     "data": {
      "text/plain": [
       "(16.79051939924906, 4.1741324602798815e-05, 1, array([[ 15.04,  31.96],\n",
       "        [ 16.96,  36.04]]))"
      ]
     },
     "execution_count": 5,
     "metadata": {},
     "output_type": "execute_result"
    }
   ],
   "source": [
    "scis.chi2_contingency(pd.crosstab(smokers.male, smokers.smoker))\n",
    "# output: chi2 stat, p-value, dof, expected frequencies"
   ]
  },
  {
   "cell_type": "markdown",
   "metadata": {},
   "source": [
    "### for magnitude and direction: Fisher Exact \n",
    "* 2x2 tables only\n",
    "* computes the exact probability (under the null hypothesis) of obtaining the current distribution of frequencies across cells, or one that is more uneven\n",
    "\n",
    "[formula](http://www.let.rug.nl/nerbonne/teach/rema-stats-meth-seminar/presentations/fishers-exact-trofimova-ruffle-21-03-2005.pdf)"
   ]
  },
  {
   "cell_type": "code",
   "execution_count": 6,
   "metadata": {},
   "outputs": [
    {
     "data": {
      "text/plain": [
       "(0.1146384479717813, 1.388780781764519e-05)"
      ]
     },
     "execution_count": 6,
     "metadata": {},
     "output_type": "execute_result"
    }
   ],
   "source": [
    "scis.fisher_exact(pd.crosstab(smokers.male, smokers.smoker))\n",
    "# odds ratio, p-value"
   ]
  },
  {
   "cell_type": "markdown",
   "metadata": {},
   "source": [
    "### for low sample size: Yates correction \n",
    "* for 2x2 tables only\n",
    "* Do the Yates correction to make Chi-square more conservative.\n",
    "* The effect of the correction is to adjust each observed value by 0.5 towards the corresponding expected value.\n",
    "\n",
    "[formula](http://www.statisticshowto.com/what-is-the-yates-correction/)"
   ]
  },
  {
   "cell_type": "code",
   "execution_count": 7,
   "metadata": {},
   "outputs": [
    {
     "data": {
      "text/html": [
       "<div>\n",
       "<style>\n",
       "    .dataframe thead tr:only-child th {\n",
       "        text-align: right;\n",
       "    }\n",
       "\n",
       "    .dataframe thead th {\n",
       "        text-align: left;\n",
       "    }\n",
       "\n",
       "    .dataframe tbody tr th {\n",
       "        vertical-align: top;\n",
       "    }\n",
       "</style>\n",
       "<table border=\"1\" class=\"dataframe\">\n",
       "  <thead>\n",
       "    <tr style=\"text-align: right;\">\n",
       "      <th></th>\n",
       "      <th>male</th>\n",
       "      <th>smoker</th>\n",
       "    </tr>\n",
       "  </thead>\n",
       "  <tbody>\n",
       "    <tr>\n",
       "      <th>0</th>\n",
       "      <td>0</td>\n",
       "      <td>1</td>\n",
       "    </tr>\n",
       "    <tr>\n",
       "      <th>1</th>\n",
       "      <td>1</td>\n",
       "      <td>1</td>\n",
       "    </tr>\n",
       "    <tr>\n",
       "      <th>2</th>\n",
       "      <td>1</td>\n",
       "      <td>1</td>\n",
       "    </tr>\n",
       "    <tr>\n",
       "      <th>3</th>\n",
       "      <td>0</td>\n",
       "      <td>1</td>\n",
       "    </tr>\n",
       "    <tr>\n",
       "      <th>4</th>\n",
       "      <td>0</td>\n",
       "      <td>1</td>\n",
       "    </tr>\n",
       "  </tbody>\n",
       "</table>\n",
       "</div>"
      ],
      "text/plain": [
       "   male  smoker\n",
       "0     0       1\n",
       "1     1       1\n",
       "2     1       1\n",
       "3     0       1\n",
       "4     0       1"
      ]
     },
     "execution_count": 7,
     "metadata": {},
     "output_type": "execute_result"
    }
   ],
   "source": [
    "smokers = pd.DataFrame({\n",
    "    'male':np.random.choice([1,0], 20, p=[.5,.5]),\n",
    "})\n",
    "\n",
    "def smoke(value):\n",
    "    if value == 0:\n",
    "        return np.random.choice([1,0], p=[.8,.2])\n",
    "    else:\n",
    "        return np.random.choice([1,0], p=[.5,.5])\n",
    "\n",
    "smokers['smoker'] = smokers.male.apply(smoke)\n",
    "\n",
    "smokers.head()"
   ]
  },
  {
   "cell_type": "code",
   "execution_count": 8,
   "metadata": {},
   "outputs": [
    {
     "data": {
      "text/html": [
       "<div>\n",
       "<style>\n",
       "    .dataframe thead tr:only-child th {\n",
       "        text-align: right;\n",
       "    }\n",
       "\n",
       "    .dataframe thead th {\n",
       "        text-align: left;\n",
       "    }\n",
       "\n",
       "    .dataframe tbody tr th {\n",
       "        vertical-align: top;\n",
       "    }\n",
       "</style>\n",
       "<table border=\"1\" class=\"dataframe\">\n",
       "  <thead>\n",
       "    <tr style=\"text-align: right;\">\n",
       "      <th>smoker</th>\n",
       "      <th>0</th>\n",
       "      <th>1</th>\n",
       "    </tr>\n",
       "    <tr>\n",
       "      <th>male</th>\n",
       "      <th></th>\n",
       "      <th></th>\n",
       "    </tr>\n",
       "  </thead>\n",
       "  <tbody>\n",
       "    <tr>\n",
       "      <th>0</th>\n",
       "      <td>0.05</td>\n",
       "      <td>0.40</td>\n",
       "    </tr>\n",
       "    <tr>\n",
       "      <th>1</th>\n",
       "      <td>0.30</td>\n",
       "      <td>0.25</td>\n",
       "    </tr>\n",
       "  </tbody>\n",
       "</table>\n",
       "</div>"
      ],
      "text/plain": [
       "smoker     0     1\n",
       "male              \n",
       "0       0.05  0.40\n",
       "1       0.30  0.25"
      ]
     },
     "execution_count": 8,
     "metadata": {},
     "output_type": "execute_result"
    }
   ],
   "source": [
    "pd.crosstab(smokers.male, smokers.smoker, normalize=True)"
   ]
  },
  {
   "cell_type": "code",
   "execution_count": 9,
   "metadata": {},
   "outputs": [
    {
     "data": {
      "text/plain": [
       "(2.4175824175824174, 0.11997996734471256, 1, array([[ 3.15,  5.85],\n",
       "        [ 3.85,  7.15]]))"
      ]
     },
     "execution_count": 9,
     "metadata": {},
     "output_type": "execute_result"
    }
   ],
   "source": [
    "# 'correction'  signifies the \"Yates Correction\"\n",
    "scis.chi2_contingency(pd.crosstab(smokers.male, smokers.smoker), correction=True)\n",
    "# output: chi2 stat, p-value, dof, expected frequencies"
   ]
  },
  {
   "cell_type": "markdown",
   "metadata": {},
   "source": [
    "### for dependent variables (e.g. before and after): McNemar Chi-square\n",
    "* not testing for independence, but for consistency across samples\n",
    "* only for 2x2 tables"
   ]
  },
  {
   "cell_type": "code",
   "execution_count": 10,
   "metadata": {},
   "outputs": [
    {
     "data": {
      "text/html": [
       "<div>\n",
       "<style>\n",
       "    .dataframe thead tr:only-child th {\n",
       "        text-align: right;\n",
       "    }\n",
       "\n",
       "    .dataframe thead th {\n",
       "        text-align: left;\n",
       "    }\n",
       "\n",
       "    .dataframe tbody tr th {\n",
       "        vertical-align: top;\n",
       "    }\n",
       "</style>\n",
       "<table border=\"1\" class=\"dataframe\">\n",
       "  <thead>\n",
       "    <tr style=\"text-align: right;\">\n",
       "      <th></th>\n",
       "      <th>after_meal</th>\n",
       "      <th>before_meal</th>\n",
       "    </tr>\n",
       "  </thead>\n",
       "  <tbody>\n",
       "    <tr>\n",
       "      <th>0</th>\n",
       "      <td>1</td>\n",
       "      <td>1</td>\n",
       "    </tr>\n",
       "    <tr>\n",
       "      <th>1</th>\n",
       "      <td>1</td>\n",
       "      <td>1</td>\n",
       "    </tr>\n",
       "    <tr>\n",
       "      <th>2</th>\n",
       "      <td>0</td>\n",
       "      <td>1</td>\n",
       "    </tr>\n",
       "    <tr>\n",
       "      <th>3</th>\n",
       "      <td>1</td>\n",
       "      <td>1</td>\n",
       "    </tr>\n",
       "    <tr>\n",
       "      <th>4</th>\n",
       "      <td>0</td>\n",
       "      <td>1</td>\n",
       "    </tr>\n",
       "  </tbody>\n",
       "</table>\n",
       "</div>"
      ],
      "text/plain": [
       "   after_meal  before_meal\n",
       "0           1            1\n",
       "1           1            1\n",
       "2           0            1\n",
       "3           1            1\n",
       "4           0            1"
      ]
     },
     "execution_count": 10,
     "metadata": {},
     "output_type": "execute_result"
    }
   ],
   "source": [
    "fatigue = pd.DataFrame({\n",
    "    'before_meal':np.random.choice([1,0], 100, p=[.5,.5]),\n",
    "    'after_meal':np.random.choice([1,0], 100, p=[.6,.4])\n",
    "})\n",
    "\n",
    "fatigue.head()"
   ]
  },
  {
   "cell_type": "code",
   "execution_count": 11,
   "metadata": {
    "scrolled": true
   },
   "outputs": [
    {
     "data": {
      "text/html": [
       "<div>\n",
       "<style>\n",
       "    .dataframe thead tr:only-child th {\n",
       "        text-align: right;\n",
       "    }\n",
       "\n",
       "    .dataframe thead th {\n",
       "        text-align: left;\n",
       "    }\n",
       "\n",
       "    .dataframe tbody tr th {\n",
       "        vertical-align: top;\n",
       "    }\n",
       "</style>\n",
       "<table border=\"1\" class=\"dataframe\">\n",
       "  <thead>\n",
       "    <tr style=\"text-align: right;\">\n",
       "      <th>after_meal</th>\n",
       "      <th>0</th>\n",
       "      <th>1</th>\n",
       "    </tr>\n",
       "    <tr>\n",
       "      <th>before_meal</th>\n",
       "      <th></th>\n",
       "      <th></th>\n",
       "    </tr>\n",
       "  </thead>\n",
       "  <tbody>\n",
       "    <tr>\n",
       "      <th>0</th>\n",
       "      <td>0.19</td>\n",
       "      <td>0.27</td>\n",
       "    </tr>\n",
       "    <tr>\n",
       "      <th>1</th>\n",
       "      <td>0.19</td>\n",
       "      <td>0.35</td>\n",
       "    </tr>\n",
       "  </tbody>\n",
       "</table>\n",
       "</div>"
      ],
      "text/plain": [
       "after_meal      0     1\n",
       "before_meal            \n",
       "0            0.19  0.27\n",
       "1            0.19  0.35"
      ]
     },
     "execution_count": 11,
     "metadata": {},
     "output_type": "execute_result"
    }
   ],
   "source": [
    "pd.crosstab(fatigue.before_meal, fatigue.after_meal, normalize=True)"
   ]
  },
  {
   "cell_type": "code",
   "execution_count": 12,
   "metadata": {},
   "outputs": [
    {
     "data": {
      "text/plain": [
       "(19.0, 0.30199561318966062)"
      ]
     },
     "execution_count": 12,
     "metadata": {},
     "output_type": "execute_result"
    }
   ],
   "source": [
    "output = sm.stats.mcnemar(pd.crosstab(fatigue.before_meal, fatigue.after_meal))\n",
    "output.statistic, output.pvalue"
   ]
  },
  {
   "cell_type": "markdown",
   "metadata": {},
   "source": [
    "### to calculate magnitude (but not direction) for 3 or more categories: Cramer's V \n",
    "* all RxC tables\n",
    "* you cannot calculate overall direction when you have multiple categories, because this doesn't mean anything\n",
    "* instead you must look at categories individually\n",
    "\n",
    "[formula](https://www.spss-tutorials.com/cramers-v-what-and-why/)"
   ]
  },
  {
   "cell_type": "code",
   "execution_count": 13,
   "metadata": {},
   "outputs": [],
   "source": [
    "def cramers_stat(contingency_table):\n",
    "    chi2 = scis.chi2_contingency(contingency_table)\n",
    "    print('chi2 statistic: ', chi2[0], '\\nchi2 p-value: ', chi2[1])\n",
    "    if chi2[1] < 0.05:\n",
    "        n = contingency_table.values.sum()\n",
    "        return np.sqrt(chi2[0] / (n*(min(contingency_table.shape)-1)))\n",
    "    else:\n",
    "        return 'no relation'"
   ]
  },
  {
   "cell_type": "code",
   "execution_count": 14,
   "metadata": {},
   "outputs": [
    {
     "data": {
      "text/html": [
       "<div>\n",
       "<style>\n",
       "    .dataframe thead tr:only-child th {\n",
       "        text-align: right;\n",
       "    }\n",
       "\n",
       "    .dataframe thead th {\n",
       "        text-align: left;\n",
       "    }\n",
       "\n",
       "    .dataframe tbody tr th {\n",
       "        vertical-align: top;\n",
       "    }\n",
       "</style>\n",
       "<table border=\"1\" class=\"dataframe\">\n",
       "  <thead>\n",
       "    <tr style=\"text-align: right;\">\n",
       "      <th></th>\n",
       "      <th>profession</th>\n",
       "      <th>hood</th>\n",
       "    </tr>\n",
       "  </thead>\n",
       "  <tbody>\n",
       "    <tr>\n",
       "      <th>0</th>\n",
       "      <td>statistician</td>\n",
       "      <td>Uptown</td>\n",
       "    </tr>\n",
       "    <tr>\n",
       "      <th>1</th>\n",
       "      <td>plumber</td>\n",
       "      <td>Downtown</td>\n",
       "    </tr>\n",
       "    <tr>\n",
       "      <th>2</th>\n",
       "      <td>statistician</td>\n",
       "      <td>Uptown</td>\n",
       "    </tr>\n",
       "    <tr>\n",
       "      <th>3</th>\n",
       "      <td>statistician</td>\n",
       "      <td>Downtown</td>\n",
       "    </tr>\n",
       "    <tr>\n",
       "      <th>4</th>\n",
       "      <td>plumber</td>\n",
       "      <td>Uptown</td>\n",
       "    </tr>\n",
       "  </tbody>\n",
       "</table>\n",
       "</div>"
      ],
      "text/plain": [
       "     profession      hood\n",
       "0  statistician    Uptown\n",
       "1       plumber  Downtown\n",
       "2  statistician    Uptown\n",
       "3  statistician  Downtown\n",
       "4       plumber    Uptown"
      ]
     },
     "execution_count": 14,
     "metadata": {},
     "output_type": "execute_result"
    }
   ],
   "source": [
    "hoods = pd.DataFrame({\n",
    "    'profession': np.random.choice(['painter', 'plumber', 'statistician' ], 200, p=[.2,.4,.4])\n",
    "})\n",
    "\n",
    "def hood(value):\n",
    "    if value == 'painter':\n",
    "        return np.random.choice(['Uptown', 'Downtown', 'Burbs'], p=[.8,.1,.1])\n",
    "    elif value == 'plumber':\n",
    "        return np.random.choice(['Uptown', 'Downtown', 'Burbs'], p=[.3,.5,.2])\n",
    "    elif value == 'statistician':\n",
    "        return np.random.choice(['Uptown', 'Downtown', 'Burbs'], p=[.2,.7,.1])\n",
    "\n",
    "hoods['hood'] = hoods.profession.apply(hood)\n",
    "hoods.head()"
   ]
  },
  {
   "cell_type": "code",
   "execution_count": 15,
   "metadata": {
    "scrolled": true
   },
   "outputs": [
    {
     "data": {
      "text/html": [
       "<div>\n",
       "<style>\n",
       "    .dataframe thead tr:only-child th {\n",
       "        text-align: right;\n",
       "    }\n",
       "\n",
       "    .dataframe thead th {\n",
       "        text-align: left;\n",
       "    }\n",
       "\n",
       "    .dataframe tbody tr th {\n",
       "        vertical-align: top;\n",
       "    }\n",
       "</style>\n",
       "<table border=\"1\" class=\"dataframe\">\n",
       "  <thead>\n",
       "    <tr style=\"text-align: right;\">\n",
       "      <th>hood</th>\n",
       "      <th>Burbs</th>\n",
       "      <th>Downtown</th>\n",
       "      <th>Uptown</th>\n",
       "    </tr>\n",
       "    <tr>\n",
       "      <th>profession</th>\n",
       "      <th></th>\n",
       "      <th></th>\n",
       "      <th></th>\n",
       "    </tr>\n",
       "  </thead>\n",
       "  <tbody>\n",
       "    <tr>\n",
       "      <th>painter</th>\n",
       "      <td>1</td>\n",
       "      <td>6</td>\n",
       "      <td>33</td>\n",
       "    </tr>\n",
       "    <tr>\n",
       "      <th>plumber</th>\n",
       "      <td>18</td>\n",
       "      <td>38</td>\n",
       "      <td>20</td>\n",
       "    </tr>\n",
       "    <tr>\n",
       "      <th>statistician</th>\n",
       "      <td>11</td>\n",
       "      <td>52</td>\n",
       "      <td>21</td>\n",
       "    </tr>\n",
       "  </tbody>\n",
       "</table>\n",
       "</div>"
      ],
      "text/plain": [
       "hood          Burbs  Downtown  Uptown\n",
       "profession                           \n",
       "painter           1         6      33\n",
       "plumber          18        38      20\n",
       "statistician     11        52      21"
      ]
     },
     "execution_count": 15,
     "metadata": {},
     "output_type": "execute_result"
    }
   ],
   "source": [
    "pd.crosstab(hoods.profession, hoods.hood)"
   ]
  },
  {
   "cell_type": "code",
   "execution_count": 16,
   "metadata": {
    "scrolled": false
   },
   "outputs": [
    {
     "name": "stdout",
     "output_type": "stream",
     "text": [
      "chi2 statistic:  48.7077406354 \n",
      "chi2 p-value:  6.71881638537e-10\n"
     ]
    },
    {
     "data": {
      "text/plain": [
       "0.34895465549040966"
      ]
     },
     "execution_count": 16,
     "metadata": {},
     "output_type": "execute_result"
    }
   ],
   "source": [
    "cramers_stat(pd.crosstab(hoods.hood, hoods.profession))"
   ]
  },
  {
   "cell_type": "markdown",
   "metadata": {},
   "source": [
    "[interpretation guide](http://rcompanion.org/handbook/H_10.html)\n",
    "\n",
    "To make statements about individuals, you need to look at frequencies. "
   ]
  },
  {
   "cell_type": "markdown",
   "metadata": {},
   "source": [
    "![Philadelphia](images/philadelphia.jpg)\n",
    "\n",
    "---\n",
    "\n",
    "---\n",
    "\n",
    "# A is nominal, B is ordinal\n",
    "### when A is binary: Kendall's tau\n",
    "* use Kendall's tau as you want only the order to be taken into account, not the distance between values.  [source](https://www.uvm.edu/~dhowell/StatPages/More_Stuff/OrdinalChisq/OrdinalChiSq.html)\n",
    "* 0 is no relation, 1 is perfect relation\n",
    "    * if statistic is negative, take the absolute value\n",
    "* alternatives: Wilcoxon rank-sum, [linear by linear association?](https://www.uvm.edu/~dhowell/StatPages/More_Stuff/OrdinalChisq/OrdinalChiSq.html)\n",
    "\n",
    "[formula](http://www.statisticshowto.com/kendalls-tau/)"
   ]
  },
  {
   "cell_type": "code",
   "execution_count": 17,
   "metadata": {},
   "outputs": [
    {
     "data": {
      "text/html": [
       "<div>\n",
       "<style>\n",
       "    .dataframe thead tr:only-child th {\n",
       "        text-align: right;\n",
       "    }\n",
       "\n",
       "    .dataframe thead th {\n",
       "        text-align: left;\n",
       "    }\n",
       "\n",
       "    .dataframe tbody tr th {\n",
       "        vertical-align: top;\n",
       "    }\n",
       "</style>\n",
       "<table border=\"1\" class=\"dataframe\">\n",
       "  <thead>\n",
       "    <tr style=\"text-align: right;\">\n",
       "      <th>pain</th>\n",
       "      <th>1</th>\n",
       "      <th>2</th>\n",
       "      <th>3</th>\n",
       "    </tr>\n",
       "    <tr>\n",
       "      <th>test_drug</th>\n",
       "      <th></th>\n",
       "      <th></th>\n",
       "      <th></th>\n",
       "    </tr>\n",
       "  </thead>\n",
       "  <tbody>\n",
       "    <tr>\n",
       "      <th>0</th>\n",
       "      <td>0.12</td>\n",
       "      <td>0.22</td>\n",
       "      <td>0.08</td>\n",
       "    </tr>\n",
       "    <tr>\n",
       "      <th>1</th>\n",
       "      <td>0.52</td>\n",
       "      <td>0.06</td>\n",
       "      <td>0.00</td>\n",
       "    </tr>\n",
       "  </tbody>\n",
       "</table>\n",
       "</div>"
      ],
      "text/plain": [
       "pain          1     2     3\n",
       "test_drug                  \n",
       "0          0.12  0.22  0.08\n",
       "1          0.52  0.06  0.00"
      ]
     },
     "execution_count": 17,
     "metadata": {},
     "output_type": "execute_result"
    }
   ],
   "source": [
    "trial = pd.DataFrame({\n",
    "    'test_drug': np.random.choice([1, 0], 50, p=[.5,.5])\n",
    "})\n",
    "\n",
    "def pain(value):\n",
    "    if value == 0:\n",
    "        return np.random.choice([4, 3, 2, 1], p=[.1,.2,.4, .3])\n",
    "    if value == 1:\n",
    "        return np.random.choice([4, 3, 2, 1], p=[0,0,.3, .7])\n",
    "\n",
    "trial['pain'] = trial.test_drug.apply(pain)\n",
    "pd.crosstab(trial.test_drug, trial.pain, normalize=True)"
   ]
  },
  {
   "cell_type": "code",
   "execution_count": 18,
   "metadata": {},
   "outputs": [
    {
     "data": {
      "text/plain": [
       "KendalltauResult(correlation=-0.618962073767236, pvalue=8.1550805368114328e-06)"
      ]
     },
     "execution_count": 18,
     "metadata": {},
     "output_type": "execute_result"
    }
   ],
   "source": [
    "scis.kendalltau(trial.test_drug, trial.pain)"
   ]
  },
  {
   "cell_type": "markdown",
   "metadata": {},
   "source": [
    "### when A has three or more categories: Kruskal–Wallis analysis of ranks\n",
    "* with three or more categories, you must group by category, and test whether the subsets are likely to derive from the same population (i.e., that the the subsets have the same shape)\n",
    "* this is conceptually like comparing the medians of the subsets\n",
    "* the parametric equivalent is the one-way ANOVA\n",
    "* this won't tell you which categories are significant; use a Post Hoc test\n",
    "\n",
    "* assumptions:\n",
    "    * all subset distributions are similar\n",
    "\n",
    "[source](https://en.wikipedia.org/wiki/Kruskal%E2%80%93Wallis_one-way_analysis_of_variance)\n",
    "\n",
    "* alternatives: decision tree\n",
    "\n",
    "[formula](http://www.statisticshowto.com/kruskal-wallis/)"
   ]
  },
  {
   "cell_type": "code",
   "execution_count": 19,
   "metadata": {},
   "outputs": [
    {
     "data": {
      "text/html": [
       "<div>\n",
       "<style>\n",
       "    .dataframe thead tr:only-child th {\n",
       "        text-align: right;\n",
       "    }\n",
       "\n",
       "    .dataframe thead th {\n",
       "        text-align: left;\n",
       "    }\n",
       "\n",
       "    .dataframe tbody tr th {\n",
       "        vertical-align: top;\n",
       "    }\n",
       "</style>\n",
       "<table border=\"1\" class=\"dataframe\">\n",
       "  <thead>\n",
       "    <tr style=\"text-align: right;\">\n",
       "      <th>energy_level</th>\n",
       "      <th>1</th>\n",
       "      <th>2</th>\n",
       "      <th>3</th>\n",
       "      <th>4</th>\n",
       "    </tr>\n",
       "    <tr>\n",
       "      <th>diet</th>\n",
       "      <th></th>\n",
       "      <th></th>\n",
       "      <th></th>\n",
       "      <th></th>\n",
       "    </tr>\n",
       "  </thead>\n",
       "  <tbody>\n",
       "    <tr>\n",
       "      <th>keto</th>\n",
       "      <td>0</td>\n",
       "      <td>0</td>\n",
       "      <td>10</td>\n",
       "      <td>3</td>\n",
       "    </tr>\n",
       "    <tr>\n",
       "      <th>paleo</th>\n",
       "      <td>0</td>\n",
       "      <td>20</td>\n",
       "      <td>7</td>\n",
       "      <td>11</td>\n",
       "    </tr>\n",
       "    <tr>\n",
       "      <th>traditional</th>\n",
       "      <td>92</td>\n",
       "      <td>42</td>\n",
       "      <td>15</td>\n",
       "      <td>0</td>\n",
       "    </tr>\n",
       "  </tbody>\n",
       "</table>\n",
       "</div>"
      ],
      "text/plain": [
       "energy_level   1   2   3   4\n",
       "diet                        \n",
       "keto           0   0  10   3\n",
       "paleo          0  20   7  11\n",
       "traditional   92  42  15   0"
      ]
     },
     "execution_count": 19,
     "metadata": {},
     "output_type": "execute_result"
    }
   ],
   "source": [
    "diets = pd.DataFrame({\n",
    "    'diet': np.random.choice(['traditional', 'paleo', 'keto'], 200, p=[.7,.2,.1])\n",
    "})\n",
    "\n",
    "def energy_level(value):\n",
    "    if value == 'traditional':\n",
    "        return np.random.choice([3,2,1], p=[.1,.2,.7])\n",
    "    if value == 'paleo':\n",
    "        return np.random.choice([4,3,2], p=[.1,.2,.7])\n",
    "    elif value == 'keto':\n",
    "        return np.random.choice([5,4,3], p=[.1,.2,.7])\n",
    "\n",
    "diets['energy_level'] = diets.diet.apply(energy_level)\n",
    "\n",
    "pd.crosstab(diets.diet, diets.energy_level)"
   ]
  },
  {
   "cell_type": "code",
   "execution_count": 20,
   "metadata": {},
   "outputs": [
    {
     "data": {
      "text/html": [
       "<div>\n",
       "<style>\n",
       "    .dataframe thead tr:only-child th {\n",
       "        text-align: right;\n",
       "    }\n",
       "\n",
       "    .dataframe thead th {\n",
       "        text-align: left;\n",
       "    }\n",
       "\n",
       "    .dataframe tbody tr th {\n",
       "        vertical-align: top;\n",
       "    }\n",
       "</style>\n",
       "<table border=\"1\" class=\"dataframe\">\n",
       "  <thead>\n",
       "    <tr style=\"text-align: right;\">\n",
       "      <th></th>\n",
       "      <th>energy_level</th>\n",
       "    </tr>\n",
       "    <tr>\n",
       "      <th>diet</th>\n",
       "      <th></th>\n",
       "    </tr>\n",
       "  </thead>\n",
       "  <tbody>\n",
       "    <tr>\n",
       "      <th>keto</th>\n",
       "      <td>3</td>\n",
       "    </tr>\n",
       "    <tr>\n",
       "      <th>paleo</th>\n",
       "      <td>2</td>\n",
       "    </tr>\n",
       "    <tr>\n",
       "      <th>traditional</th>\n",
       "      <td>1</td>\n",
       "    </tr>\n",
       "  </tbody>\n",
       "</table>\n",
       "</div>"
      ],
      "text/plain": [
       "             energy_level\n",
       "diet                     \n",
       "keto                    3\n",
       "paleo                   2\n",
       "traditional             1"
      ]
     },
     "execution_count": 20,
     "metadata": {},
     "output_type": "execute_result"
    }
   ],
   "source": [
    "diets.groupby('diet').median()"
   ]
  },
  {
   "cell_type": "code",
   "execution_count": 21,
   "metadata": {},
   "outputs": [
    {
     "data": {
      "text/plain": [
       "KruskalResult(statistic=80.65499647970536, pvalue=3.0618932507566625e-18)"
      ]
     },
     "execution_count": 21,
     "metadata": {},
     "output_type": "execute_result"
    }
   ],
   "source": [
    "# group data by diet and compare\n",
    "keto = diets[diets.diet == 'keto'].energy_level.tolist()\n",
    "paleo = diets[diets.diet == 'paleo'].energy_level.tolist()\n",
    "traditional = diets[diets.diet == 'traditional'].energy_level.tolist()\n",
    "\n",
    "scis.kruskal(keto,paleo,traditional)"
   ]
  },
  {
   "cell_type": "markdown",
   "metadata": {},
   "source": [
    "### when A has three categories (alternate): decision tree classifier\n",
    "* use energy_level as the independent variable, see if we can predict diet (not intuitive, but for demo only)"
   ]
  },
  {
   "cell_type": "code",
   "execution_count": 22,
   "metadata": {},
   "outputs": [
    {
     "name": "stdout",
     "output_type": "stream",
     "text": [
      "             precision    recall  f1-score   support\n",
      "\n",
      "       keto       0.00      0.00      0.00         1\n",
      "      paleo       1.00      0.22      0.36         9\n",
      "traditional       0.86      1.00      0.93        50\n",
      "\n",
      "avg / total       0.87      0.87      0.83        60\n",
      "\n"
     ]
    },
    {
     "name": "stderr",
     "output_type": "stream",
     "text": [
      "/Users/nico/code/pydata-env/lib/python3.6/site-packages/sklearn/metrics/classification.py:1135: UndefinedMetricWarning: Precision and F-score are ill-defined and being set to 0.0 in labels with no predicted samples.\n",
      "  'precision', 'predicted', average, warn_for)\n"
     ]
    }
   ],
   "source": [
    "from sklearn.tree import DecisionTreeClassifier\n",
    "from sklearn.model_selection import train_test_split\n",
    "from sklearn.metrics import classification_report,confusion_matrix\n",
    "\n",
    "X = diets.energy_level.values.reshape(-1, 1)\n",
    "y = diets.diet\n",
    "\n",
    "# split the data\n",
    "X_train, X_test, y_train, y_test = train_test_split(X, y, test_size=0.30)\n",
    "\n",
    "# fit\n",
    "dtree = DecisionTreeClassifier()\n",
    "dtree = dtree.fit(X_train, y_train)\n",
    "\n",
    "# predict\n",
    "predictions = dtree.predict(X_test)\n",
    "print(classification_report(y_test,predictions))"
   ]
  },
  {
   "cell_type": "markdown",
   "metadata": {},
   "source": [
    "![Flatirons](images/flatirons.jpg)\n",
    "\n",
    "---\n",
    "\n",
    "---\n",
    "\n",
    "# A is nominal, B is interval\n",
    "\n",
    "### common solution: t-test for independent samples\n",
    "* measures the difference between two means\n",
    "* group B along categories of A\n",
    "* the nominal variable is considered the independent variable\n",
    "* valid for small samples (n = 10) provided normal distribution\n",
    "* first check for normality\n",
    "* then check for equivalence of variance using F test\n",
    "* if these conditions are not met, use nonparametric equivalents\n",
    "* alternatives: logistic regression\n",
    "\n",
    "[source](http://www.statsoft.com/Textbook/Basic-Statistics#t-test%20for%20independent%20samples)\n",
    "\n",
    "[formula](http://www.statisticshowto.com/independent-samples-t-test/)"
   ]
  },
  {
   "cell_type": "code",
   "execution_count": 23,
   "metadata": {},
   "outputs": [
    {
     "data": {
      "text/plain": [
       "<matplotlib.axes._subplots.AxesSubplot at 0x10e8caeb8>"
      ]
     },
     "execution_count": 23,
     "metadata": {},
     "output_type": "execute_result"
    },
    {
     "data": {
      "image/png": "[encoded data removed]",
      "text/plain": [
       "<matplotlib.figure.Figure at 0x108ce8438>"
      ]
     },
     "metadata": {},
     "output_type": "display_data"
    }
   ],
   "source": [
    "fat = pd.DataFrame({\n",
    "    'profession': np.random.choice(['blue_collar', 'white_collar'], 100, p=[.4,.6])\n",
    "})\n",
    "\n",
    "def fat_percent(value):\n",
    "    if value == 'blue_collar':\n",
    "        return np.random.normal(loc=20, scale=10)\n",
    "    else:\n",
    "        return np.random.normal(loc=25, scale=10)\n",
    "\n",
    "fat['fat_percent'] = fat.profession.apply(fat_percent)\n",
    "\n",
    "sns.boxplot(x='profession', y='fat_percent', data=fat)"
   ]
  },
  {
   "cell_type": "code",
   "execution_count": 24,
   "metadata": {},
   "outputs": [
    {
     "name": "stdout",
     "output_type": "stream",
     "text": [
      "white_collar :  NormaltestResult(statistic=12.496353016075073, pvalue=0.0019339775152794102)\n",
      "blue_collar :  NormaltestResult(statistic=4.9548690524074459, pvalue=0.083958342463431188)\n"
     ]
    }
   ],
   "source": [
    "# check for normality\n",
    "dict_fat = {name: fat[fat.profession == name].fat_percent for name in pd.unique(fat.profession)}\n",
    "\n",
    "for key in dict_fat.keys():\n",
    "    print(key, ': ', scis.normaltest(dict_fat[key]))"
   ]
  },
  {
   "cell_type": "code",
   "execution_count": 34,
   "metadata": {},
   "outputs": [
    {
     "data": {
      "text/plain": [
       "LeveneResult(statistic=0.84963575467969088, pvalue=0.3589190676895353)"
      ]
     },
     "execution_count": 34,
     "metadata": {},
     "output_type": "execute_result"
    }
   ],
   "source": [
    "# check for equal variance\n",
    "scis.levene(dict_fat['white_collar'], dict_fat['blue_collar'])"
   ]
  },
  {
   "cell_type": "code",
   "execution_count": 35,
   "metadata": {},
   "outputs": [
    {
     "data": {
      "text/plain": [
       "Ttest_indResult(statistic=3.2096997866289709, pvalue=0.0017967191789469645)"
      ]
     },
     "execution_count": 35,
     "metadata": {},
     "output_type": "execute_result"
    }
   ],
   "source": [
    "# run ttest\n",
    "scis.ttest_ind(dict_fat['white_collar'], dict_fat['blue_collar'], axis=0, equal_var=True)"
   ]
  },
  {
   "cell_type": "markdown",
   "metadata": {},
   "source": [
    "### for A with 3 or more categories: one-way ANOVA\n",
    "* goal is to test for significant differences between means\n",
    "* an analysis of variance (as compared to t-test which compares means)\n",
    "* when you reject the null hypothesis, all you are saying is that there are at least 2 groups whose means differ\n",
    "    * To determine which specific groups differed from each other, you need to use a post hoc test (like Tukey's test)\n",
    "* note: the reason you don't do multiple t-tests is that you increase the error collectively (i.e. each test has 5% error... it adds up)\n",
    "* assumptions:\n",
    "    * dependent variable is normally distributed in all subsets (else use Kruskal-Wallis)\n",
    "    * the variances across subsets are equal (else use Welch test)\n",
    "    * observations are independent\n",
    "    \n",
    "[source_theory](https://statistics.laerd.com/statistical-guides/one-way-anova-statistical-guide.php)    \n",
    "\n",
    "[formula](http://www.statisticshowto.com/probability-and-statistics/hypothesis-testing/anova/)"
   ]
  },
  {
   "cell_type": "code",
   "execution_count": 36,
   "metadata": {},
   "outputs": [
    {
     "data": {
      "text/plain": [
       "<matplotlib.axes._subplots.AxesSubplot at 0x10ef01208>"
      ]
     },
     "execution_count": 36,
     "metadata": {},
     "output_type": "execute_result"
    },
    {
     "data": {
      "image/png": "[encoded data removed]",
      "text/plain": [
       "<matplotlib.figure.Figure at 0x10e3b4a20>"
      ]
     },
     "metadata": {},
     "output_type": "display_data"
    }
   ],
   "source": [
    "diets = pd.DataFrame({\n",
    "    'diet': np.random.choice(['traditional', 'paleo', 'keto'], 200, p=[.7,.2,.1])\n",
    "})\n",
    "\n",
    "def energy_level(value):\n",
    "    if value == 'traditional':\n",
    "        return np.random.normal(3, 1)\n",
    "    if value == 'paleo':\n",
    "        return np.random.normal(4, 1)\n",
    "    elif value == 'keto':\n",
    "        return np.random.normal(5, 1)\n",
    "\n",
    "diets['energy_level'] = diets.diet.apply(energy_level)\n",
    "\n",
    "sns.boxplot(x='diet', y='energy_level', data=diets)"
   ]
  },
  {
   "cell_type": "code",
   "execution_count": 37,
   "metadata": {},
   "outputs": [
    {
     "name": "stdout",
     "output_type": "stream",
     "text": [
      "paleo :  NormaltestResult(statistic=0.62125575955700429, pvalue=0.73298658425612118)\n",
      "traditional :  NormaltestResult(statistic=0.30882953592650414, pvalue=0.8569165257704644)\n",
      "keto :  NormaltestResult(statistic=1.4846465843164458, pvalue=0.47600672716156323)\n"
     ]
    }
   ],
   "source": [
    "# check for normality\n",
    "dict_diets = {name: diets[diets.diet == name].energy_level for name in pd.unique(diets.diet)}\n",
    "\n",
    "for key in dict_diets.keys():\n",
    "    print(key, ': ', scis.normaltest(dict_diets[key]))"
   ]
  },
  {
   "cell_type": "markdown",
   "metadata": {},
   "source": [
    "**all distributions are normal**"
   ]
  },
  {
   "cell_type": "code",
   "execution_count": 38,
   "metadata": {},
   "outputs": [
    {
     "data": {
      "text/plain": [
       "LeveneResult(statistic=2.5381444623088711, pvalue=0.081594437855918092)"
      ]
     },
     "execution_count": 38,
     "metadata": {},
     "output_type": "execute_result"
    }
   ],
   "source": [
    "# check for equal variance\n",
    "scis.levene(dict_diets['traditional'],dict_diets['keto'],dict_diets['paleo'])"
   ]
  },
  {
   "cell_type": "markdown",
   "metadata": {},
   "source": [
    "**interpretation: this test is against the null hypothesis that the variances are equal. Since p > .05, the variances are sufficiently equal**"
   ]
  },
  {
   "cell_type": "code",
   "execution_count": 39,
   "metadata": {},
   "outputs": [
    {
     "data": {
      "text/plain": [
       "F_onewayResult(statistic=37.414733673962637, pvalue=1.6854453138822217e-14)"
      ]
     },
     "execution_count": 39,
     "metadata": {},
     "output_type": "execute_result"
    }
   ],
   "source": [
    "# run ANOVA\n",
    "scis.f_oneway(dict_diets['traditional'],dict_diets['keto'],dict_diets['paleo'])"
   ]
  },
  {
   "cell_type": "markdown",
   "metadata": {},
   "source": [
    "#### run post hoc test to determine which pairs are different: Tukey’s Honest Significant Difference\n",
    "* If your data met the assumption of homogeneity of variances, use Tukey's honestly significant difference (HSD) post hoc test\n",
    "* compares all possible pairs and we can use it to precisely identify difference between two means that's greater than the expected standard error.\n",
    "* if sample sizes are not equal, use Tukey-Kramer Method\n",
    "* for a [guide](https://statistics.laerd.com/statistical-guides/one-way-anova-statistical-guide-4.php) as to which post hoc test is appropriate\n",
    "\n",
    "[formula](http://www.statisticshowto.com/tukey-test-honest-significant-difference/)"
   ]
  },
  {
   "cell_type": "code",
   "execution_count": 40,
   "metadata": {},
   "outputs": [
    {
     "name": "stdout",
     "output_type": "stream",
     "text": [
      "Multiple Comparison of Means - Tukey HSD,FWER=0.05\n",
      "==================================================\n",
      "group1    group2   meandiff  lower   upper  reject\n",
      "--------------------------------------------------\n",
      " keto     paleo    -0.9555  -1.5523 -0.3587  True \n",
      " keto  traditional -1.7606  -2.2675 -1.2538  True \n",
      "paleo  traditional -0.8051  -1.2407 -0.3695  True \n",
      "--------------------------------------------------\n",
      "['keto' 'paleo' 'traditional']\n"
     ]
    }
   ],
   "source": [
    "from statsmodels.stats.multicomp import pairwise_tukeyhsd\n",
    "from statsmodels.stats.multicomp import MultiComparison\n",
    "\n",
    "mc = MultiComparison(diets.energy_level, diets.diet)\n",
    "result = mc.tukeyhsd()\n",
    " \n",
    "print(result)\n",
    "print(mc.groupsunique)"
   ]
  },
  {
   "cell_type": "markdown",
   "metadata": {},
   "source": [
    "### when B is nonparametric: Mann Whitney U\n",
    "* tests against the null hypothesis that the probability is 50% that a randomly drawn member of the first population will exceed a member of the second population in the dependent variable\n",
    "* note that if sample size is higher than 100, some researchers won't care if the data is non-normal\n",
    "* assumptions:\n",
    "    * independent variable is two categories\n",
    "    * dependent variable is interval, non-normal but distributed the same way\n",
    "\n",
    "[source](https://en.wikipedia.org/wiki/Mann%E2%80%93Whitney_U_test)\n",
    "\n",
    "[formula](http://www.statisticshowto.com/mann-whitney-u-test/)"
   ]
  },
  {
   "cell_type": "code",
   "execution_count": 41,
   "metadata": {},
   "outputs": [
    {
     "data": {
      "text/plain": [
       "<matplotlib.axes._subplots.AxesSubplot at 0x10e9dc748>"
      ]
     },
     "execution_count": 41,
     "metadata": {},
     "output_type": "execute_result"
    },
    {
     "data": {
      "image/png": "[encoded data removed]",
      "text/plain": [
       "<matplotlib.figure.Figure at 0x10e95c390>"
      ]
     },
     "metadata": {},
     "output_type": "display_data"
    }
   ],
   "source": [
    "fat = pd.DataFrame({\n",
    "    'profession': np.random.choice(['blue_collar', 'white_collar'], 50, p=[.5,.5])\n",
    "})\n",
    "\n",
    "def fat_percent(value):\n",
    "    if value == 'blue_collar':\n",
    "        return np.random.uniform(low=10, high=30)\n",
    "    else:\n",
    "        return np.random.uniform(low=20, high=40)\n",
    "\n",
    "fat['fat_percent'] = fat.profession.apply(fat_percent)\n",
    "\n",
    "sns.boxplot(x='profession', y='fat_percent', data=fat)"
   ]
  },
  {
   "cell_type": "code",
   "execution_count": 42,
   "metadata": {},
   "outputs": [
    {
     "name": "stdout",
     "output_type": "stream",
     "text": [
      "white_normal:  NormaltestResult(statistic=1.6088588242987454, pvalue=0.44734310229157659)\n",
      "blue_normal:  NormaltestResult(statistic=4.4322617072110031, pvalue=0.10903014737140897)\n"
     ]
    },
    {
     "name": "stderr",
     "output_type": "stream",
     "text": [
      "/Users/nico/code/pydata-env/lib/python3.6/site-packages/scipy/stats/stats.py:1334: UserWarning: kurtosistest only valid for n>=20 ... continuing anyway, n=18\n",
      "  \"anyway, n=%i\" % int(n))\n"
     ]
    },
    {
     "data": {
      "image/png": "[encoded data removed]",
      "text/plain": [
       "<matplotlib.figure.Figure at 0x10efca860>"
      ]
     },
     "metadata": {},
     "output_type": "display_data"
    }
   ],
   "source": [
    "# check for normality\n",
    "white = fat[fat.profession == 'white_collar'].fat_percent\n",
    "blue = fat[fat.profession == 'blue_collar'].fat_percent\n",
    "\n",
    "sns.distplot(blue, label='blue', kde=False)\n",
    "sns.distplot(white, label='white', kde=False)\n",
    "plt.legend()\n",
    "\n",
    "print('white_normal: ', scis.normaltest(white))\n",
    "print('blue_normal: ', scis.normaltest(blue))"
   ]
  },
  {
   "cell_type": "code",
   "execution_count": 43,
   "metadata": {},
   "outputs": [
    {
     "data": {
      "text/plain": [
       "MannwhitneyuResult(statistic=52.0, pvalue=9.6910860124093993e-07)"
      ]
     },
     "execution_count": 43,
     "metadata": {},
     "output_type": "execute_result"
    }
   ],
   "source": [
    "# run the comparison test\n",
    "# note that the scipy implementation of mannwhitneyu is different from scipy ranksums\n",
    "scis.mannwhitneyu(white, blue)"
   ]
  },
  {
   "cell_type": "markdown",
   "metadata": {},
   "source": [
    "### when A has three or more categories and B is nonparametric: Kruskal-Wallis analysis of ranks\n",
    "* see implementation above\n",
    "\n",
    "[source](http://www.statsoft.com/Textbook/Nonparametric-Statistics)"
   ]
  },
  {
   "cell_type": "markdown",
   "metadata": {},
   "source": [
    "### when categories are paired/dependent (e.g. before and after): t-test for dependent samples\n",
    "* check for normality?\n",
    "* check for equal variance?\n",
    "\n",
    "[formula](http://www.statisticshowto.com/probability-and-statistics/t-test/)"
   ]
  },
  {
   "cell_type": "code",
   "execution_count": 66,
   "metadata": {},
   "outputs": [
    {
     "data": {
      "text/plain": [
       "<matplotlib.axes._subplots.AxesSubplot at 0x10f731518>"
      ]
     },
     "execution_count": 66,
     "metadata": {},
     "output_type": "execute_result"
    },
    {
     "data": {
      "image/png": "[encoded data removed]",
      "text/plain": [
       "<matplotlib.figure.Figure at 0x10f521630>"
      ]
     },
     "metadata": {},
     "output_type": "display_data"
    }
   ],
   "source": [
    "scores = pd.DataFrame({\n",
    "    'math': np.random.normal(loc=20, scale=10, size=20),\n",
    "    'reading': np.random.normal(loc=25, scale=10, size=20)\n",
    "})\n",
    "\n",
    "sns.boxplot(x='level_1', y=0, data=scores.stack().to_frame().reset_index(1))"
   ]
  },
  {
   "cell_type": "code",
   "execution_count": 67,
   "metadata": {
    "scrolled": true
   },
   "outputs": [
    {
     "data": {
      "text/plain": [
       "Ttest_relResult(statistic=-0.80025278014769774, pvalue=0.43345696954515034)"
      ]
     },
     "execution_count": 67,
     "metadata": {},
     "output_type": "execute_result"
    }
   ],
   "source": [
    "scis.ttest_rel(scores.math, scores.reading)"
   ]
  },
  {
   "cell_type": "markdown",
   "metadata": {},
   "source": [
    "![San Francisco](images/sfbay.jpg)\n",
    "\n",
    "---\n",
    "\n",
    "---\n",
    "\n",
    "# A and B are ordinal\n",
    "### Spearman R\n",
    "The Spearman rank-order correlation is a nonparametric measure of magnitude and direction of the relationship between two variables\n",
    "* it is the alternative to the Pearson correlation, assuming only that the two variables are ordinal\n",
    "* also works for interval and ratio variables\n",
    "* while the Pearson correlation looks at linear relationship, Spearman looks at monotonic relationship\n",
    "    * monotonic is a generalization of linear: \"as A increases, B increases or decreases\"\n",
    "* varies from -1 to +1, where the extremes imply an exact monotonic relationship\n",
    "* alternatives: Kendall tau, Gamma (when there are many tied observations)\n",
    "\n",
    "[docs](https://statistics.laerd.com/statistical-guides/spearmans-rank-order-correlation-statistical-guide.php)\n",
    "\n",
    "[formula](http://www.statisticshowto.com/spearman-rank-correlation-definition-calculate/)"
   ]
  },
  {
   "cell_type": "code",
   "execution_count": 68,
   "metadata": {},
   "outputs": [
    {
     "data": {
      "text/html": [
       "<div>\n",
       "<style>\n",
       "    .dataframe thead tr:only-child th {\n",
       "        text-align: right;\n",
       "    }\n",
       "\n",
       "    .dataframe thead th {\n",
       "        text-align: left;\n",
       "    }\n",
       "\n",
       "    .dataframe tbody tr th {\n",
       "        vertical-align: top;\n",
       "    }\n",
       "</style>\n",
       "<table border=\"1\" class=\"dataframe\">\n",
       "  <thead>\n",
       "    <tr style=\"text-align: right;\">\n",
       "      <th></th>\n",
       "      <th>workout_intensity</th>\n",
       "      <th>pain</th>\n",
       "    </tr>\n",
       "  </thead>\n",
       "  <tbody>\n",
       "    <tr>\n",
       "      <th>0</th>\n",
       "      <td>3</td>\n",
       "      <td>3</td>\n",
       "    </tr>\n",
       "    <tr>\n",
       "      <th>1</th>\n",
       "      <td>1</td>\n",
       "      <td>2</td>\n",
       "    </tr>\n",
       "    <tr>\n",
       "      <th>2</th>\n",
       "      <td>2</td>\n",
       "      <td>3</td>\n",
       "    </tr>\n",
       "    <tr>\n",
       "      <th>3</th>\n",
       "      <td>1</td>\n",
       "      <td>1</td>\n",
       "    </tr>\n",
       "    <tr>\n",
       "      <th>4</th>\n",
       "      <td>2</td>\n",
       "      <td>3</td>\n",
       "    </tr>\n",
       "  </tbody>\n",
       "</table>\n",
       "</div>"
      ],
      "text/plain": [
       "   workout_intensity  pain\n",
       "0                  3     3\n",
       "1                  1     2\n",
       "2                  2     3\n",
       "3                  1     1\n",
       "4                  2     3"
      ]
     },
     "execution_count": 68,
     "metadata": {},
     "output_type": "execute_result"
    }
   ],
   "source": [
    "injuries = pd.DataFrame({\n",
    "    'workout_intensity': np.random.choice([3, 2, 1], 200, p=[.3,.3,.4])\n",
    "})\n",
    "\n",
    "def pain(value):\n",
    "    if value == 1:\n",
    "        return np.random.choice([3, 2, 1], p=[.1,.3,.6])\n",
    "    if value == 2:\n",
    "        return np.random.choice([3, 2, 1], p=[.2,.4,.4])\n",
    "    else:\n",
    "        return np.random.choice([3, 2, 1], p=[.5,.2,.3])\n",
    "\n",
    "injuries['pain'] = injuries.workout_intensity.apply(pain)\n",
    "injuries.head()"
   ]
  },
  {
   "cell_type": "code",
   "execution_count": 69,
   "metadata": {},
   "outputs": [
    {
     "data": {
      "text/html": [
       "<div>\n",
       "<style>\n",
       "    .dataframe thead tr:only-child th {\n",
       "        text-align: right;\n",
       "    }\n",
       "\n",
       "    .dataframe thead th {\n",
       "        text-align: left;\n",
       "    }\n",
       "\n",
       "    .dataframe tbody tr th {\n",
       "        vertical-align: top;\n",
       "    }\n",
       "</style>\n",
       "<table border=\"1\" class=\"dataframe\">\n",
       "  <thead>\n",
       "    <tr style=\"text-align: right;\">\n",
       "      <th>pain</th>\n",
       "      <th>1</th>\n",
       "      <th>2</th>\n",
       "      <th>3</th>\n",
       "    </tr>\n",
       "    <tr>\n",
       "      <th>workout_intensity</th>\n",
       "      <th></th>\n",
       "      <th></th>\n",
       "      <th></th>\n",
       "    </tr>\n",
       "  </thead>\n",
       "  <tbody>\n",
       "    <tr>\n",
       "      <th>1</th>\n",
       "      <td>0.22</td>\n",
       "      <td>0.160</td>\n",
       "      <td>0.020</td>\n",
       "    </tr>\n",
       "    <tr>\n",
       "      <th>2</th>\n",
       "      <td>0.09</td>\n",
       "      <td>0.120</td>\n",
       "      <td>0.080</td>\n",
       "    </tr>\n",
       "    <tr>\n",
       "      <th>3</th>\n",
       "      <td>0.09</td>\n",
       "      <td>0.075</td>\n",
       "      <td>0.145</td>\n",
       "    </tr>\n",
       "  </tbody>\n",
       "</table>\n",
       "</div>"
      ],
      "text/plain": [
       "pain                  1      2      3\n",
       "workout_intensity                    \n",
       "1                  0.22  0.160  0.020\n",
       "2                  0.09  0.120  0.080\n",
       "3                  0.09  0.075  0.145"
      ]
     },
     "execution_count": 69,
     "metadata": {},
     "output_type": "execute_result"
    }
   ],
   "source": [
    "pd.crosstab(injuries.workout_intensity, injuries.pain, normalize=True)"
   ]
  },
  {
   "cell_type": "code",
   "execution_count": 70,
   "metadata": {},
   "outputs": [
    {
     "data": {
      "text/plain": [
       "SpearmanrResult(correlation=0.35422295705559176, pvalue=2.6624224482070009e-07)"
      ]
     },
     "execution_count": 70,
     "metadata": {},
     "output_type": "execute_result"
    }
   ],
   "source": [
    "scis.spearmanr(injuries)"
   ]
  },
  {
   "cell_type": "markdown",
   "metadata": {},
   "source": [
    "---\n",
    "\n",
    "---\n",
    "\n",
    "# A is ordinal, B is interval\n",
    "* use Spearman r, as implemented above"
   ]
  },
  {
   "cell_type": "markdown",
   "metadata": {},
   "source": [
    "![Princeton](images/princeton.jpg)\n",
    "\n",
    "\n",
    "---\n",
    "\n",
    "---\n",
    "\n",
    "# A and B are interval (ratio)\n",
    "### common solution: Pearson r\n",
    "* aka linear correlation, product-moment correlation\n",
    "* determines the level to which variables are proportional to each other\n",
    "* assumes the variables are at least interval\n",
    "* to obtain magnitude of relation, square the correlation coefficient\n",
    "* note: correlation coefficient is sensitive to sample size\n",
    "* always trim outliers, because they have a strong influence on the slope of the regression line\n",
    "* note: correlation coefficients are not additive, and cannot be averaged. you must square them first\n",
    "\n",
    "[formula](http://www.statisticshowto.com/probability-and-statistics/correlation-coefficient-formula/)"
   ]
  },
  {
   "cell_type": "code",
   "execution_count": null,
   "metadata": {
    "scrolled": false
   },
   "outputs": [],
   "source": [
    "diet = pd.DataFrame({\n",
    "    'daily_calories': np.round(np.random.normal(loc=2200,scale=200, size=100))\n",
    "})\n",
    "\n",
    "def platelets(value):\n",
    "    return value * (np.random.normal(1, scale=.05))\n",
    "\n",
    "diet['platelets'] = diet.daily_calories.apply(platelets)\n",
    "sns.jointplot(x='daily_calories', y='platelets', data=diet, kind=\"reg\")"
   ]
  },
  {
   "cell_type": "code",
   "execution_count": null,
   "metadata": {},
   "outputs": [],
   "source": [
    "scis.pearsonr(diet.daily_calories, diet.platelets)\n",
    "# correlation coefficient, pvalue"
   ]
  },
  {
   "cell_type": "markdown",
   "metadata": {},
   "source": [
    "### for nonlinear relations: log-transform or Spearman r\n",
    "* no single solution, depends on the curve\n",
    "* If the curve is monotonous (continuously decreasing or increasing) \n",
    "    1. transform one or both of the variables to remove the curvilinearity (e.g. log) and then Pearson r\n",
    "    2. use nonparametric stat (e.g. Spearman r) that assumes data is ordinal only (ignores the curve)"
   ]
  },
  {
   "cell_type": "code",
   "execution_count": null,
   "metadata": {},
   "outputs": [],
   "source": [
    "exercise = pd.DataFrame({\n",
    "    'age': np.round(np.random.randint(10,80, size=200))\n",
    "})\n",
    "\n",
    "def heart_rate(value):\n",
    "    return (value/5)**2 + (np.random.normal(0, scale=10))\n",
    "\n",
    "exercise['heart_rate'] = exercise.age.apply(heart_rate)\n",
    "# first try linear model\n",
    "sns.jointplot(x='age',  y='heart_rate', data=exercise, kind='reg')"
   ]
  },
  {
   "cell_type": "markdown",
   "metadata": {},
   "source": [
    "it doesn't look like this relationship is linear. using the pearson r is not appropriate here."
   ]
  },
  {
   "cell_type": "markdown",
   "metadata": {},
   "source": [
    "#### method 1: transform curve to linear\n",
    "Note: you can use the builtin methods in seaborn.regplot"
   ]
  },
  {
   "cell_type": "code",
   "execution_count": null,
   "metadata": {
    "scrolled": false
   },
   "outputs": [],
   "source": [
    "# we can tell this relationship is not quite linear\n",
    "# convert to linear by taking sqrt\n",
    "\n",
    "exercise['sqrt_heart_rate'] = np.sqrt(exercise.heart_rate)\n",
    "sns.jointplot(x='age',  y='sqrt_heart_rate', data=exercise, kind='reg')"
   ]
  },
  {
   "cell_type": "markdown",
   "metadata": {},
   "source": [
    "#### method 2: use nonparametric test - Spearman r"
   ]
  },
  {
   "cell_type": "code",
   "execution_count": null,
   "metadata": {},
   "outputs": [],
   "source": [
    "scis.spearmanr(exercise[['age', 'heart_rate']])"
   ]
  },
  {
   "cell_type": "markdown",
   "metadata": {},
   "source": [
    "**interpretation: note that this coef is closer to the 'correct' sqrt-transformed linear regression than the non-transformed one.**"
   ]
  },
  {
   "cell_type": "markdown",
   "metadata": {},
   "source": [
    "### for non-homogeneous groups: K means clustering\n",
    "* if the scatterplot of two variables forms two clusters, a linear regression will be based on where the clusters are relative to each other, not the relation between the two variables. \n",
    "* in this scenario, run your regressions on each cluster individually (cluster analysis)."
   ]
  },
  {
   "cell_type": "code",
   "execution_count": null,
   "metadata": {},
   "outputs": [],
   "source": [
    "weights = np.concatenate([\n",
    "    np.round(np.random.normal(loc=100,scale=30, size=100)),\n",
    "    np.round(np.random.normal(loc=250, scale=30, size=100))   \n",
    "])\n",
    "\n",
    "more_exercise = pd.DataFrame({\n",
    "    'weight': weights\n",
    "})\n",
    "\n",
    "def heart_rate(value):\n",
    "    if value < 200:\n",
    "        return 100 + np.random.normal(10, scale=60)\n",
    "    else:\n",
    "        return 250 + np.random.normal(10, scale=60)\n",
    "\n",
    "more_exercise['heart_rate'] = more_exercise.weight.apply(heart_rate)\n",
    "# first try linear model\n",
    "sns.jointplot(x='weight',  y='heart_rate', data=more_exercise, kind='reg')"
   ]
  },
  {
   "cell_type": "markdown",
   "metadata": {},
   "source": [
    "Looks like this is a case for clustering!"
   ]
  },
  {
   "cell_type": "code",
   "execution_count": null,
   "metadata": {
    "scrolled": true
   },
   "outputs": [],
   "source": [
    "from sklearn.cluster import KMeans\n",
    "\n",
    "# find the clusters, assume there are two\n",
    "kmeans = KMeans(n_clusters=2)\n",
    "kmeans.fit(more_exercise)\n",
    "more_exercise['labels'] = kmeans.labels_\n",
    "\n",
    "# show the clustering to confirm visually\n",
    "plt.scatter(\n",
    "    x=more_exercise.weight, \n",
    "    y=more_exercise.heart_rate, \n",
    "    c=more_exercise['labels'],\n",
    "    cmap='flag'\n",
    ")"
   ]
  },
  {
   "cell_type": "markdown",
   "metadata": {},
   "source": [
    "#### redo linear regression with separate clusters"
   ]
  },
  {
   "cell_type": "code",
   "execution_count": null,
   "metadata": {},
   "outputs": [],
   "source": [
    "sns.jointplot(x='weight',  \n",
    "              y='heart_rate', \n",
    "              data=more_exercise[more_exercise['labels']== 1],\n",
    "              kind='reg'\n",
    "             \n",
    ")"
   ]
  },
  {
   "cell_type": "code",
   "execution_count": null,
   "metadata": {},
   "outputs": [],
   "source": [
    "sns.jointplot(x='weight',  \n",
    "           y='heart_rate', \n",
    "           data=more_exercise[more_exercise['labels']== 0],\n",
    "           kind='reg'\n",
    ")"
   ]
  },
  {
   "cell_type": "code",
   "execution_count": null,
   "metadata": {},
   "outputs": [],
   "source": []
  }
 ],
 "metadata": {
  "kernelspec": {
   "display_name": "Python 3",
   "language": "python",
   "name": "python3"
  },
  "language_info": {
   "codemirror_mode": {
    "name": "ipython",
    "version": 3
   },
   "file_extension": ".py",
   "mimetype": "text/x-python",
   "name": "python",
   "nbconvert_exporter": "python",
   "pygments_lexer": "ipython3",
   "version": "3.6.2"
  },
  "toc": {
   "nav_menu": {},
   "number_sections": false,
   "sideBar": true,
   "skip_h1_title": false,
   "toc_cell": true,
   "toc_position": {},
   "toc_section_display": "block",
   "toc_window_display": false
  }
 },
 "nbformat": 4,
 "nbformat_minor": 2
}
