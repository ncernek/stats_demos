{
 "cells": [
  {
   "cell_type": "markdown",
   "metadata": {
    "toc": true
   },
   "source": [
    "<h1>Table of Contents<span class=\"tocSkip\"></span></h1>\n",
    "<div class=\"toc\" style=\"margin-top: 1em;\"><ul class=\"toc-item\"><li><span><a href=\"#A-Guide-to-Two-Variable-Relations\" data-toc-modified-id=\"A-Guide-to-Two-Variable-Relations-1\">A Guide to Two Variable Relations</a></span></li><li><span><a href=\"#A-and-B-are-nominal\" data-toc-modified-id=\"A-and-B-are-nominal-2\">A and B are nominal</a></span><ul class=\"toc-item\"><li><ul class=\"toc-item\"><li><span><a href=\"#common-solution:-Pearson-Chi-square\" data-toc-modified-id=\"common-solution:-Pearson-Chi-square-2.0.1\">common solution: Pearson Chi-square</a></span></li><li><span><a href=\"#for-magnitude-and-direction:-Fisher-Exact\" data-toc-modified-id=\"for-magnitude-and-direction:-Fisher-Exact-2.0.2\">for magnitude and direction: Fisher Exact</a></span></li><li><span><a href=\"#for-low-sample-size:-Yates-correction\" data-toc-modified-id=\"for-low-sample-size:-Yates-correction-2.0.3\">for low sample size: Yates correction</a></span></li><li><span><a href=\"#for-dependent-variables-(e.g.-before-and-after):-McNemar-Chi-square\" data-toc-modified-id=\"for-dependent-variables-(e.g.-before-and-after):-McNemar-Chi-square-2.0.4\">for dependent variables (e.g. before and after): McNemar Chi-square</a></span></li><li><span><a href=\"#to-calculate-magnitude-(but-not-direction)-for-3-or-more-categories:-Cramer's-V\" data-toc-modified-id=\"to-calculate-magnitude-(but-not-direction)-for-3-or-more-categories:-Cramer's-V-2.0.5\">to calculate magnitude (but not direction) for 3 or more categories: Cramer's V</a></span></li></ul></li></ul></li><li><span><a href=\"#A-is-nominal,-B-is-ordinal\" data-toc-modified-id=\"A-is-nominal,-B-is-ordinal-3\">A is nominal, B is ordinal</a></span><ul class=\"toc-item\"><li><ul class=\"toc-item\"><li><span><a href=\"#when-A-is-binary:-Kendall's-tau\" data-toc-modified-id=\"when-A-is-binary:-Kendall's-tau-3.0.1\">when A is binary: Kendall's tau</a></span></li><li><span><a href=\"#when-A-has-three-or-more-categories:-Kruskal–Wallis-analysis-of-ranks\" data-toc-modified-id=\"when-A-has-three-or-more-categories:-Kruskal–Wallis-analysis-of-ranks-3.0.2\">when A has three or more categories: Kruskal–Wallis analysis of ranks</a></span></li><li><span><a href=\"#when-A-has-three-categories-(alternate):-decision-tree-classifier\" data-toc-modified-id=\"when-A-has-three-categories-(alternate):-decision-tree-classifier-3.0.3\">when A has three categories (alternate): decision tree classifier</a></span></li></ul></li></ul></li><li><span><a href=\"#A-is-nominal,-B-is-interval\" data-toc-modified-id=\"A-is-nominal,-B-is-interval-4\">A is nominal, B is interval</a></span><ul class=\"toc-item\"><li><ul class=\"toc-item\"><li><span><a href=\"#common-solution:-t-test-for-independent-samples\" data-toc-modified-id=\"common-solution:-t-test-for-independent-samples-4.0.1\">common solution: t-test for independent samples</a></span></li><li><span><a href=\"#for-A-with-3-or-more-categories:-one-way-ANOVA\" data-toc-modified-id=\"for-A-with-3-or-more-categories:-one-way-ANOVA-4.0.2\">for A with 3 or more categories: one-way ANOVA</a></span></li><li><span><a href=\"#when-B-is-nonparametric:-Mann-Whitney-U\" data-toc-modified-id=\"when-B-is-nonparametric:-Mann-Whitney-U-4.0.3\">when B is nonparametric: Mann Whitney U</a></span></li><li><span><a href=\"#when-A-has-three-or-more-categories-and-B-is-nonparametric:-Kruskal-Wallis-analysis-of-ranks\" data-toc-modified-id=\"when-A-has-three-or-more-categories-and-B-is-nonparametric:-Kruskal-Wallis-analysis-of-ranks-4.0.4\">when A has three or more categories and B is nonparametric: Kruskal-Wallis analysis of ranks</a></span></li><li><span><a href=\"#when-categories-are-dependent-(e.g.-before-and-after):-t-test-for-dependent-samples\" data-toc-modified-id=\"when-categories-are-dependent-(e.g.-before-and-after):-t-test-for-dependent-samples-4.0.5\">when categories are dependent (e.g. before and after): t-test for dependent samples</a></span></li></ul></li></ul></li><li><span><a href=\"#A-and-B-are-ordinal\" data-toc-modified-id=\"A-and-B-are-ordinal-5\">A and B are ordinal</a></span><ul class=\"toc-item\"><li><ul class=\"toc-item\"><li><span><a href=\"#Spearman-R\" data-toc-modified-id=\"Spearman-R-5.0.1\">Spearman R</a></span></li></ul></li></ul></li><li><span><a href=\"#A-is-ordinal,-B-is-interval\" data-toc-modified-id=\"A-is-ordinal,-B-is-interval-6\">A is ordinal, B is interval</a></span></li><li><span><a href=\"#A-and-B-are-interval-(ratio)\" data-toc-modified-id=\"A-and-B-are-interval-(ratio)-7\">A and B are interval (ratio)</a></span><ul class=\"toc-item\"><li><ul class=\"toc-item\"><li><span><a href=\"#common-solution:-Pearson-r\" data-toc-modified-id=\"common-solution:-Pearson-r-7.0.1\">common solution: Pearson r</a></span></li><li><span><a href=\"#for-nonlinear-relations\" data-toc-modified-id=\"for-nonlinear-relations-7.0.2\">for nonlinear relations</a></span><ul class=\"toc-item\"><li><span><a href=\"#method-1:-transform-curve-to-linear\" data-toc-modified-id=\"method-1:-transform-curve-to-linear-7.0.2.1\">method 1: transform curve to linear</a></span></li><li><span><a href=\"#method-2:-use-nonparametric-test---Spearman-r\" data-toc-modified-id=\"method-2:-use-nonparametric-test---Spearman-r-7.0.2.2\">method 2: use nonparametric test - Spearman r</a></span></li></ul></li><li><span><a href=\"#for-non-homogeneous-groups:-K-means-clustering\" data-toc-modified-id=\"for-non-homogeneous-groups:-K-means-clustering-7.0.3\">for non-homogeneous groups: K means clustering</a></span><ul class=\"toc-item\"><li><span><a href=\"#redo-linear-regression-with-separate-clusters\" data-toc-modified-id=\"redo-linear-regression-with-separate-clusters-7.0.3.1\">redo linear regression with separate clusters</a></span></li></ul></li></ul></li></ul></li></ul></div>"
   ]
  },
  {
   "cell_type": "markdown",
   "metadata": {},
   "source": [
    "# A Guide to Two Variable Relations\n",
    "This is a demo of describing the relation between two variables for all permutations of:\n",
    "* nominal\n",
    "* ordinal\n",
    "* interval (assume that ratio will be treated similarly)\n",
    "\n",
    "Defining each relationship\n",
    "* sample size and distribution of each variable\n",
    "* reliability (significance)\n",
    "* magnitude\n",
    "* direction\n",
    "\n",
    "I have written brief explanations for each method, and included coded examples. "
   ]
  },
  {
   "cell_type": "code",
   "execution_count": 235,
   "metadata": {},
   "outputs": [],
   "source": [
    "import pandas as pd\n",
    "import numpy as np\n",
    "import scipy.stats as scis\n",
    "import statsmodels.api as sm\n",
    "\n",
    "import matplotlib.pyplot as plt\n",
    "import seaborn as sns\n",
    "sns.set_style(\"whitegrid\")\n",
    "%matplotlib inline"
   ]
  },
  {
   "cell_type": "markdown",
   "metadata": {},
   "source": [
    "![Chicago](images/chicago.jpg)\n",
    "\n",
    "---\n",
    "\n",
    "---\n",
    "\n",
    "\n",
    "# A and B are nominal "
   ]
  },
  {
   "cell_type": "markdown",
   "metadata": {},
   "source": [
    "### common solution: Pearson Chi-square\n",
    "Compare the expected frequencies (what you would see if there were no relation) to the actual frequencies.\n",
    "* assumption: sample size of a given frequency is at least 5\n",
    "* know that this does not take order of rows and columns into account\n",
    "* note: the statistic and p-value are sensitive to sample size. small deviations from expected frequencies will not be detected if sample is small.\n",
    "* alternatives: the Maximum-Likelihood Chi-square, Phi-square (2x2 only), tetrachoric correlation (2x2 only)"
   ]
  },
  {
   "cell_type": "code",
   "execution_count": 68,
   "metadata": {},
   "outputs": [
    {
     "data": {
      "text/html": [
       "<div>\n",
       "<style>\n",
       "    .dataframe thead tr:only-child th {\n",
       "        text-align: right;\n",
       "    }\n",
       "\n",
       "    .dataframe thead th {\n",
       "        text-align: left;\n",
       "    }\n",
       "\n",
       "    .dataframe tbody tr th {\n",
       "        vertical-align: top;\n",
       "    }\n",
       "</style>\n",
       "<table border=\"1\" class=\"dataframe\">\n",
       "  <thead>\n",
       "    <tr style=\"text-align: right;\">\n",
       "      <th></th>\n",
       "      <th>male</th>\n",
       "      <th>smoker</th>\n",
       "    </tr>\n",
       "  </thead>\n",
       "  <tbody>\n",
       "    <tr>\n",
       "      <th>0</th>\n",
       "      <td>0</td>\n",
       "      <td>1</td>\n",
       "    </tr>\n",
       "    <tr>\n",
       "      <th>1</th>\n",
       "      <td>1</td>\n",
       "      <td>0</td>\n",
       "    </tr>\n",
       "    <tr>\n",
       "      <th>2</th>\n",
       "      <td>0</td>\n",
       "      <td>1</td>\n",
       "    </tr>\n",
       "    <tr>\n",
       "      <th>3</th>\n",
       "      <td>0</td>\n",
       "      <td>1</td>\n",
       "    </tr>\n",
       "    <tr>\n",
       "      <th>4</th>\n",
       "      <td>1</td>\n",
       "      <td>1</td>\n",
       "    </tr>\n",
       "  </tbody>\n",
       "</table>\n",
       "</div>"
      ],
      "text/plain": [
       "   male  smoker\n",
       "0     0       1\n",
       "1     1       0\n",
       "2     0       1\n",
       "3     0       1\n",
       "4     1       1"
      ]
     },
     "execution_count": 68,
     "metadata": {},
     "output_type": "execute_result"
    }
   ],
   "source": [
    "smokers = pd.DataFrame({\n",
    "    'male':np.random.choice([1,0], 100, p=[.5,.5]),\n",
    "})\n",
    "\n",
    "def smoke(value):\n",
    "    if value == 0:\n",
    "        return np.random.choice([1,0], p=[.8,.2])\n",
    "    else:\n",
    "        return np.random.choice([1,0], p=[.5,.5])\n",
    "\n",
    "smokers['smoker'] = smokers.male.apply(smoke)\n",
    "\n",
    "smokers.head()"
   ]
  },
  {
   "cell_type": "code",
   "execution_count": 70,
   "metadata": {
    "scrolled": true
   },
   "outputs": [
    {
     "data": {
      "text/html": [
       "<div>\n",
       "<style>\n",
       "    .dataframe thead tr:only-child th {\n",
       "        text-align: right;\n",
       "    }\n",
       "\n",
       "    .dataframe thead th {\n",
       "        text-align: left;\n",
       "    }\n",
       "\n",
       "    .dataframe tbody tr th {\n",
       "        vertical-align: top;\n",
       "    }\n",
       "</style>\n",
       "<table border=\"1\" class=\"dataframe\">\n",
       "  <thead>\n",
       "    <tr style=\"text-align: right;\">\n",
       "      <th>smoker</th>\n",
       "      <th>0</th>\n",
       "      <th>1</th>\n",
       "    </tr>\n",
       "    <tr>\n",
       "      <th>male</th>\n",
       "      <th></th>\n",
       "      <th></th>\n",
       "    </tr>\n",
       "  </thead>\n",
       "  <tbody>\n",
       "    <tr>\n",
       "      <th>0</th>\n",
       "      <td>0.08</td>\n",
       "      <td>0.51</td>\n",
       "    </tr>\n",
       "    <tr>\n",
       "      <th>1</th>\n",
       "      <td>0.18</td>\n",
       "      <td>0.23</td>\n",
       "    </tr>\n",
       "  </tbody>\n",
       "</table>\n",
       "</div>"
      ],
      "text/plain": [
       "smoker     0     1\n",
       "male              \n",
       "0       0.08  0.51\n",
       "1       0.18  0.23"
      ]
     },
     "execution_count": 70,
     "metadata": {},
     "output_type": "execute_result"
    }
   ],
   "source": [
    "pd.crosstab(smokers.male, smokers.smoker, normalize=True)"
   ]
  },
  {
   "cell_type": "code",
   "execution_count": 72,
   "metadata": {
    "scrolled": true
   },
   "outputs": [
    {
     "data": {
      "text/plain": [
       "(10.052434856072722, 0.0015214671776058223, 1, array([[ 15.34,  43.66],\n",
       "        [ 10.66,  30.34]]))"
      ]
     },
     "execution_count": 72,
     "metadata": {},
     "output_type": "execute_result"
    }
   ],
   "source": [
    "scis.chi2_contingency(pd.crosstab(smokers.male, smokers.smoker))\n",
    "# output: chi2 stat, p-value, dof, expected frequencies"
   ]
  },
  {
   "cell_type": "markdown",
   "metadata": {},
   "source": [
    "**interpretation: all this tells you is that the relationship is significant**"
   ]
  },
  {
   "cell_type": "markdown",
   "metadata": {},
   "source": [
    "### for magnitude and direction: Fisher Exact \n",
    "* 2x2 tables only\n",
    "* computes the exact probability (under the null hypothesis) of obtaining the current distribution of frequencies across cells, or one that is more uneven"
   ]
  },
  {
   "cell_type": "code",
   "execution_count": 74,
   "metadata": {},
   "outputs": [
    {
     "data": {
      "text/plain": [
       "(0.20043572984749455, 0.0010263144704206837)"
      ]
     },
     "execution_count": 74,
     "metadata": {},
     "output_type": "execute_result"
    }
   ],
   "source": [
    "scis.fisher_exact(pd.crosstab(smokers.male, smokers.smoker))\n",
    "# odds ratio, p-value"
   ]
  },
  {
   "cell_type": "markdown",
   "metadata": {},
   "source": [
    "### for low sample size: Yates correction \n",
    "* for 2x2 tables only\n",
    "* Do the Yates correction to make Chi-square more conservative.\n",
    "* The effect of the correction is to adjust each observed value by 0.5 towards the corresponding expected value."
   ]
  },
  {
   "cell_type": "code",
   "execution_count": 76,
   "metadata": {},
   "outputs": [
    {
     "data": {
      "text/html": [
       "<div>\n",
       "<style>\n",
       "    .dataframe thead tr:only-child th {\n",
       "        text-align: right;\n",
       "    }\n",
       "\n",
       "    .dataframe thead th {\n",
       "        text-align: left;\n",
       "    }\n",
       "\n",
       "    .dataframe tbody tr th {\n",
       "        vertical-align: top;\n",
       "    }\n",
       "</style>\n",
       "<table border=\"1\" class=\"dataframe\">\n",
       "  <thead>\n",
       "    <tr style=\"text-align: right;\">\n",
       "      <th></th>\n",
       "      <th>male</th>\n",
       "      <th>smoker</th>\n",
       "    </tr>\n",
       "  </thead>\n",
       "  <tbody>\n",
       "    <tr>\n",
       "      <th>0</th>\n",
       "      <td>0</td>\n",
       "      <td>1</td>\n",
       "    </tr>\n",
       "    <tr>\n",
       "      <th>1</th>\n",
       "      <td>1</td>\n",
       "      <td>1</td>\n",
       "    </tr>\n",
       "    <tr>\n",
       "      <th>2</th>\n",
       "      <td>0</td>\n",
       "      <td>1</td>\n",
       "    </tr>\n",
       "    <tr>\n",
       "      <th>3</th>\n",
       "      <td>1</td>\n",
       "      <td>1</td>\n",
       "    </tr>\n",
       "    <tr>\n",
       "      <th>4</th>\n",
       "      <td>0</td>\n",
       "      <td>1</td>\n",
       "    </tr>\n",
       "  </tbody>\n",
       "</table>\n",
       "</div>"
      ],
      "text/plain": [
       "   male  smoker\n",
       "0     0       1\n",
       "1     1       1\n",
       "2     0       1\n",
       "3     1       1\n",
       "4     0       1"
      ]
     },
     "execution_count": 76,
     "metadata": {},
     "output_type": "execute_result"
    }
   ],
   "source": [
    "smokers = pd.DataFrame({\n",
    "    'male':np.random.choice([1,0], 20, p=[.5,.5]),\n",
    "})\n",
    "\n",
    "def smoke(value):\n",
    "    if value == 0:\n",
    "        return np.random.choice([1,0], p=[.8,.2])\n",
    "    else:\n",
    "        return np.random.choice([1,0], p=[.5,.5])\n",
    "\n",
    "smokers['smoker'] = smokers.male.apply(smoke)\n",
    "\n",
    "smokers.head()"
   ]
  },
  {
   "cell_type": "code",
   "execution_count": 77,
   "metadata": {},
   "outputs": [
    {
     "data": {
      "text/html": [
       "<div>\n",
       "<style>\n",
       "    .dataframe thead tr:only-child th {\n",
       "        text-align: right;\n",
       "    }\n",
       "\n",
       "    .dataframe thead th {\n",
       "        text-align: left;\n",
       "    }\n",
       "\n",
       "    .dataframe tbody tr th {\n",
       "        vertical-align: top;\n",
       "    }\n",
       "</style>\n",
       "<table border=\"1\" class=\"dataframe\">\n",
       "  <thead>\n",
       "    <tr style=\"text-align: right;\">\n",
       "      <th>smoker</th>\n",
       "      <th>0</th>\n",
       "      <th>1</th>\n",
       "    </tr>\n",
       "    <tr>\n",
       "      <th>male</th>\n",
       "      <th></th>\n",
       "      <th></th>\n",
       "    </tr>\n",
       "  </thead>\n",
       "  <tbody>\n",
       "    <tr>\n",
       "      <th>0</th>\n",
       "      <td>0.05</td>\n",
       "      <td>0.60</td>\n",
       "    </tr>\n",
       "    <tr>\n",
       "      <th>1</th>\n",
       "      <td>0.10</td>\n",
       "      <td>0.25</td>\n",
       "    </tr>\n",
       "  </tbody>\n",
       "</table>\n",
       "</div>"
      ],
      "text/plain": [
       "smoker     0     1\n",
       "male              \n",
       "0       0.05  0.60\n",
       "1       0.10  0.25"
      ]
     },
     "execution_count": 77,
     "metadata": {},
     "output_type": "execute_result"
    }
   ],
   "source": [
    "pd.crosstab(smokers.male, smokers.smoker, normalize=True)"
   ]
  },
  {
   "cell_type": "code",
   "execution_count": 78,
   "metadata": {},
   "outputs": [
    {
     "data": {
      "text/plain": [
       "(0.3490627020038784, 0.55464419184403124, 1, array([[  1.95,  11.05],\n",
       "        [  1.05,   5.95]]))"
      ]
     },
     "execution_count": 78,
     "metadata": {},
     "output_type": "execute_result"
    }
   ],
   "source": [
    "# 'correction'  signifies the \"Yates Correction\"\n",
    "scis.chi2_contingency(pd.crosstab(smokers.male, smokers.smoker), correction=True)\n",
    "# output: chi2 stat, p-value, dof, expected frequencies"
   ]
  },
  {
   "cell_type": "markdown",
   "metadata": {},
   "source": [
    "**interpretation: no relation because the p-value is too big**"
   ]
  },
  {
   "cell_type": "markdown",
   "metadata": {},
   "source": [
    "### for dependent variables (e.g. before and after): McNemar Chi-square\n",
    "* only for 2x2 tables"
   ]
  },
  {
   "cell_type": "code",
   "execution_count": 102,
   "metadata": {},
   "outputs": [
    {
     "data": {
      "text/html": [
       "<div>\n",
       "<style>\n",
       "    .dataframe thead tr:only-child th {\n",
       "        text-align: right;\n",
       "    }\n",
       "\n",
       "    .dataframe thead th {\n",
       "        text-align: left;\n",
       "    }\n",
       "\n",
       "    .dataframe tbody tr th {\n",
       "        vertical-align: top;\n",
       "    }\n",
       "</style>\n",
       "<table border=\"1\" class=\"dataframe\">\n",
       "  <thead>\n",
       "    <tr style=\"text-align: right;\">\n",
       "      <th></th>\n",
       "      <th>after_meal</th>\n",
       "      <th>before_meal</th>\n",
       "    </tr>\n",
       "  </thead>\n",
       "  <tbody>\n",
       "    <tr>\n",
       "      <th>0</th>\n",
       "      <td>1</td>\n",
       "      <td>1</td>\n",
       "    </tr>\n",
       "    <tr>\n",
       "      <th>1</th>\n",
       "      <td>1</td>\n",
       "      <td>0</td>\n",
       "    </tr>\n",
       "    <tr>\n",
       "      <th>2</th>\n",
       "      <td>0</td>\n",
       "      <td>0</td>\n",
       "    </tr>\n",
       "    <tr>\n",
       "      <th>3</th>\n",
       "      <td>1</td>\n",
       "      <td>1</td>\n",
       "    </tr>\n",
       "    <tr>\n",
       "      <th>4</th>\n",
       "      <td>0</td>\n",
       "      <td>0</td>\n",
       "    </tr>\n",
       "  </tbody>\n",
       "</table>\n",
       "</div>"
      ],
      "text/plain": [
       "   after_meal  before_meal\n",
       "0           1            1\n",
       "1           1            0\n",
       "2           0            0\n",
       "3           1            1\n",
       "4           0            0"
      ]
     },
     "execution_count": 102,
     "metadata": {},
     "output_type": "execute_result"
    }
   ],
   "source": [
    "fatigue = pd.DataFrame({\n",
    "    'before_meal':np.random.choice([1,0], 100, p=[.5,.5]),\n",
    "    'after_meal':np.random.choice([1,0], 100, p=[.6,.4])\n",
    "})\n",
    "\n",
    "fatigue.head()"
   ]
  },
  {
   "cell_type": "code",
   "execution_count": 104,
   "metadata": {
    "scrolled": true
   },
   "outputs": [
    {
     "data": {
      "text/html": [
       "<div>\n",
       "<style>\n",
       "    .dataframe thead tr:only-child th {\n",
       "        text-align: right;\n",
       "    }\n",
       "\n",
       "    .dataframe thead th {\n",
       "        text-align: left;\n",
       "    }\n",
       "\n",
       "    .dataframe tbody tr th {\n",
       "        vertical-align: top;\n",
       "    }\n",
       "</style>\n",
       "<table border=\"1\" class=\"dataframe\">\n",
       "  <thead>\n",
       "    <tr style=\"text-align: right;\">\n",
       "      <th>after_meal</th>\n",
       "      <th>0</th>\n",
       "      <th>1</th>\n",
       "    </tr>\n",
       "    <tr>\n",
       "      <th>before_meal</th>\n",
       "      <th></th>\n",
       "      <th></th>\n",
       "    </tr>\n",
       "  </thead>\n",
       "  <tbody>\n",
       "    <tr>\n",
       "      <th>0</th>\n",
       "      <td>0.17</td>\n",
       "      <td>0.30</td>\n",
       "    </tr>\n",
       "    <tr>\n",
       "      <th>1</th>\n",
       "      <td>0.24</td>\n",
       "      <td>0.29</td>\n",
       "    </tr>\n",
       "  </tbody>\n",
       "</table>\n",
       "</div>"
      ],
      "text/plain": [
       "after_meal      0     1\n",
       "before_meal            \n",
       "0            0.17  0.30\n",
       "1            0.24  0.29"
      ]
     },
     "execution_count": 104,
     "metadata": {},
     "output_type": "execute_result"
    }
   ],
   "source": [
    "pd.crosstab(fatigue.before_meal, fatigue.after_meal, normalize=True)"
   ]
  },
  {
   "cell_type": "code",
   "execution_count": 107,
   "metadata": {},
   "outputs": [
    {
     "data": {
      "text/plain": [
       "(24.0, 0.49661743531793406)"
      ]
     },
     "execution_count": 107,
     "metadata": {},
     "output_type": "execute_result"
    }
   ],
   "source": [
    "output = sm.stats.mcnemar(pd.crosstab(fatigue.before_meal, fatigue.after_meal))\n",
    "output.statistic, output.pvalue"
   ]
  },
  {
   "cell_type": "markdown",
   "metadata": {},
   "source": [
    "**interpretation: no relation because p-value is too big**"
   ]
  },
  {
   "cell_type": "markdown",
   "metadata": {},
   "source": [
    "### to calculate magnitude (but not direction) for 3 or more categories: Cramer's V \n",
    "* all RxC tables\n",
    "* you cannot calculate overall direction when you have multiple categories, because this doesn't mean anything\n",
    "* instead you must look at categories individually\n",
    "\n"
   ]
  },
  {
   "cell_type": "code",
   "execution_count": 218,
   "metadata": {},
   "outputs": [],
   "source": [
    "def cramers_stat(contingency_table):\n",
    "    chi2 = scis.chi2_contingency(contingency_table)\n",
    "    print('chi2 statistic: ', chi2[0], '\\nchi2 p-value: ', chi2[1])\n",
    "    if chi2[1] < 0.05:\n",
    "        n = contingency_table.values.sum()\n",
    "        return np.sqrt(chi2[0] / (n*(min(contingency_table.shape)-1)))\n",
    "    else:\n",
    "        return 'no relation'"
   ]
  },
  {
   "cell_type": "code",
   "execution_count": 206,
   "metadata": {},
   "outputs": [
    {
     "data": {
      "text/html": [
       "<div>\n",
       "<style>\n",
       "    .dataframe thead tr:only-child th {\n",
       "        text-align: right;\n",
       "    }\n",
       "\n",
       "    .dataframe thead th {\n",
       "        text-align: left;\n",
       "    }\n",
       "\n",
       "    .dataframe tbody tr th {\n",
       "        vertical-align: top;\n",
       "    }\n",
       "</style>\n",
       "<table border=\"1\" class=\"dataframe\">\n",
       "  <thead>\n",
       "    <tr style=\"text-align: right;\">\n",
       "      <th></th>\n",
       "      <th>profession</th>\n",
       "      <th>hood</th>\n",
       "    </tr>\n",
       "  </thead>\n",
       "  <tbody>\n",
       "    <tr>\n",
       "      <th>0</th>\n",
       "      <td>painter</td>\n",
       "      <td>Burbs</td>\n",
       "    </tr>\n",
       "    <tr>\n",
       "      <th>1</th>\n",
       "      <td>statistician</td>\n",
       "      <td>Downtown</td>\n",
       "    </tr>\n",
       "    <tr>\n",
       "      <th>2</th>\n",
       "      <td>statistician</td>\n",
       "      <td>Uptown</td>\n",
       "    </tr>\n",
       "    <tr>\n",
       "      <th>3</th>\n",
       "      <td>statistician</td>\n",
       "      <td>Downtown</td>\n",
       "    </tr>\n",
       "    <tr>\n",
       "      <th>4</th>\n",
       "      <td>statistician</td>\n",
       "      <td>Downtown</td>\n",
       "    </tr>\n",
       "  </tbody>\n",
       "</table>\n",
       "</div>"
      ],
      "text/plain": [
       "     profession      hood\n",
       "0       painter     Burbs\n",
       "1  statistician  Downtown\n",
       "2  statistician    Uptown\n",
       "3  statistician  Downtown\n",
       "4  statistician  Downtown"
      ]
     },
     "execution_count": 206,
     "metadata": {},
     "output_type": "execute_result"
    }
   ],
   "source": [
    "hoods = pd.DataFrame({\n",
    "    'profession': np.random.choice(['painter', 'plumber', 'statistician' ], 200, p=[.2,.4,.4])\n",
    "})\n",
    "\n",
    "def hood(value):\n",
    "    if value == 'painter':\n",
    "        return np.random.choice(['Uptown', 'Downtown', 'Burbs'], p=[.8,.1,.1])\n",
    "    elif value == 'plumber':\n",
    "        return np.random.choice(['Uptown', 'Downtown', 'Burbs'], p=[.3,.5,.2])\n",
    "    elif value == 'statistician':\n",
    "        return np.random.choice(['Uptown', 'Downtown', 'Burbs'], p=[.2,.7,.1])\n",
    "\n",
    "hoods['hood'] = hoods.profession.apply(hood)\n",
    "hoods.head()"
   ]
  },
  {
   "cell_type": "code",
   "execution_count": 207,
   "metadata": {
    "scrolled": true
   },
   "outputs": [
    {
     "data": {
      "text/html": [
       "<div>\n",
       "<style>\n",
       "    .dataframe thead tr:only-child th {\n",
       "        text-align: right;\n",
       "    }\n",
       "\n",
       "    .dataframe thead th {\n",
       "        text-align: left;\n",
       "    }\n",
       "\n",
       "    .dataframe tbody tr th {\n",
       "        vertical-align: top;\n",
       "    }\n",
       "</style>\n",
       "<table border=\"1\" class=\"dataframe\">\n",
       "  <thead>\n",
       "    <tr style=\"text-align: right;\">\n",
       "      <th>hood</th>\n",
       "      <th>Burbs</th>\n",
       "      <th>Downtown</th>\n",
       "      <th>Uptown</th>\n",
       "    </tr>\n",
       "    <tr>\n",
       "      <th>profession</th>\n",
       "      <th></th>\n",
       "      <th></th>\n",
       "      <th></th>\n",
       "    </tr>\n",
       "  </thead>\n",
       "  <tbody>\n",
       "    <tr>\n",
       "      <th>painter</th>\n",
       "      <td>5</td>\n",
       "      <td>9</td>\n",
       "      <td>34</td>\n",
       "    </tr>\n",
       "    <tr>\n",
       "      <th>plumber</th>\n",
       "      <td>21</td>\n",
       "      <td>38</td>\n",
       "      <td>19</td>\n",
       "    </tr>\n",
       "    <tr>\n",
       "      <th>statistician</th>\n",
       "      <td>7</td>\n",
       "      <td>52</td>\n",
       "      <td>15</td>\n",
       "    </tr>\n",
       "  </tbody>\n",
       "</table>\n",
       "</div>"
      ],
      "text/plain": [
       "hood          Burbs  Downtown  Uptown\n",
       "profession                           \n",
       "painter           5         9      34\n",
       "plumber          21        38      19\n",
       "statistician      7        52      15"
      ]
     },
     "execution_count": 207,
     "metadata": {},
     "output_type": "execute_result"
    }
   ],
   "source": [
    "pd.crosstab(hoods.profession, hoods.hood)"
   ]
  },
  {
   "cell_type": "code",
   "execution_count": 219,
   "metadata": {
    "scrolled": false
   },
   "outputs": [
    {
     "name": "stdout",
     "output_type": "stream",
     "text": [
      "chi2 statistic:  49.4518737166 \n",
      "chi2 p-value:  4.6993009843e-10\n"
     ]
    },
    {
     "data": {
      "text/plain": [
       "0.35161013109899009"
      ]
     },
     "execution_count": 219,
     "metadata": {},
     "output_type": "execute_result"
    }
   ],
   "source": [
    "cramers_stat(pd.crosstab(hoods.hood, hoods.profession))"
   ]
  },
  {
   "cell_type": "markdown",
   "metadata": {},
   "source": [
    "**interpretation: there is a strong relation between profession and hood**\n",
    "\n",
    "[interpretation guide](http://rcompanion.org/handbook/H_10.html)\n",
    "\n",
    "To make statements about individuals, you need to look at frequencies. "
   ]
  },
  {
   "cell_type": "markdown",
   "metadata": {},
   "source": [
    "![Philadelphia](images/philadelphia.jpg)\n",
    "\n",
    "---\n",
    "\n",
    "---\n",
    "\n",
    "# A is nominal, B is ordinal\n",
    "### when A is binary: Kendall's tau\n",
    "* use Kendall's tau as you want only the order to be taken into account, not the distance between values.  [source](https://www.uvm.edu/~dhowell/StatPages/More_Stuff/OrdinalChisq/OrdinalChiSq.html)\n",
    "* alternatives: Wilcoxon rank-sum, [linear by linear association?](https://www.uvm.edu/~dhowell/StatPages/More_Stuff/OrdinalChisq/OrdinalChiSq.html)"
   ]
  },
  {
   "cell_type": "code",
   "execution_count": 412,
   "metadata": {},
   "outputs": [
    {
     "data": {
      "text/html": [
       "<div>\n",
       "<style>\n",
       "    .dataframe thead tr:only-child th {\n",
       "        text-align: right;\n",
       "    }\n",
       "\n",
       "    .dataframe thead th {\n",
       "        text-align: left;\n",
       "    }\n",
       "\n",
       "    .dataframe tbody tr th {\n",
       "        vertical-align: top;\n",
       "    }\n",
       "</style>\n",
       "<table border=\"1\" class=\"dataframe\">\n",
       "  <thead>\n",
       "    <tr style=\"text-align: right;\">\n",
       "      <th>pain</th>\n",
       "      <th>1</th>\n",
       "      <th>2</th>\n",
       "      <th>3</th>\n",
       "      <th>4</th>\n",
       "    </tr>\n",
       "    <tr>\n",
       "      <th>test_drug</th>\n",
       "      <th></th>\n",
       "      <th></th>\n",
       "      <th></th>\n",
       "      <th></th>\n",
       "    </tr>\n",
       "  </thead>\n",
       "  <tbody>\n",
       "    <tr>\n",
       "      <th>0</th>\n",
       "      <td>0.12</td>\n",
       "      <td>0.12</td>\n",
       "      <td>0.14</td>\n",
       "      <td>0.06</td>\n",
       "    </tr>\n",
       "    <tr>\n",
       "      <th>1</th>\n",
       "      <td>0.44</td>\n",
       "      <td>0.12</td>\n",
       "      <td>0.00</td>\n",
       "      <td>0.00</td>\n",
       "    </tr>\n",
       "  </tbody>\n",
       "</table>\n",
       "</div>"
      ],
      "text/plain": [
       "pain          1     2     3     4\n",
       "test_drug                        \n",
       "0          0.12  0.12  0.14  0.06\n",
       "1          0.44  0.12  0.00  0.00"
      ]
     },
     "execution_count": 412,
     "metadata": {},
     "output_type": "execute_result"
    }
   ],
   "source": [
    "trial = pd.DataFrame({\n",
    "    'test_drug': np.random.choice([1, 0], 50, p=[.5,.5])\n",
    "})\n",
    "\n",
    "def pain(value):\n",
    "    if value == 0:\n",
    "        return np.random.choice([4, 3, 2, 1], p=[.1,.2,.4, .3])\n",
    "    if value == 1:\n",
    "        return np.random.choice([4, 3, 2, 1], p=[0,0,.3, .7])\n",
    "\n",
    "trial['pain'] = trial.test_drug.apply(pain)\n",
    "pd.crosstab(trial.test_drug, trial.pain, normalize=True)"
   ]
  },
  {
   "cell_type": "code",
   "execution_count": 411,
   "metadata": {},
   "outputs": [
    {
     "data": {
      "text/plain": [
       "KendalltauResult(correlation=-0.49254529200367642, pvalue=0.00029928008831447967)"
      ]
     },
     "execution_count": 411,
     "metadata": {},
     "output_type": "execute_result"
    }
   ],
   "source": [
    "scis.kendalltau(trial.test_drug, trial.pain)"
   ]
  },
  {
   "cell_type": "markdown",
   "metadata": {},
   "source": [
    "**interpretation: there is a medium negative correlation between the test drug and pain. this relation is reliable**"
   ]
  },
  {
   "cell_type": "markdown",
   "metadata": {},
   "source": [
    "### when A has three or more categories: Kruskal–Wallis analysis of ranks\n",
    "* with three or more categories, you must group by category, and test whether the subsets are likely to derive from the same population (i.e., that the the subsets have the same shape)\n",
    "* this is conceptually like comparing the medians of the subsets\n",
    "* the parametric equivalent is the one-way ANOVA\n",
    "\n",
    "[source](https://en.wikipedia.org/wiki/Kruskal%E2%80%93Wallis_one-way_analysis_of_variance)\n",
    "\n",
    "* alternatives: decision tree"
   ]
  },
  {
   "cell_type": "code",
   "execution_count": 422,
   "metadata": {},
   "outputs": [
    {
     "data": {
      "text/html": [
       "<div>\n",
       "<style>\n",
       "    .dataframe thead tr:only-child th {\n",
       "        text-align: right;\n",
       "    }\n",
       "\n",
       "    .dataframe thead th {\n",
       "        text-align: left;\n",
       "    }\n",
       "\n",
       "    .dataframe tbody tr th {\n",
       "        vertical-align: top;\n",
       "    }\n",
       "</style>\n",
       "<table border=\"1\" class=\"dataframe\">\n",
       "  <thead>\n",
       "    <tr style=\"text-align: right;\">\n",
       "      <th>energy_level</th>\n",
       "      <th>1</th>\n",
       "      <th>2</th>\n",
       "      <th>3</th>\n",
       "      <th>4</th>\n",
       "      <th>5</th>\n",
       "    </tr>\n",
       "    <tr>\n",
       "      <th>diet</th>\n",
       "      <th></th>\n",
       "      <th></th>\n",
       "      <th></th>\n",
       "      <th></th>\n",
       "      <th></th>\n",
       "    </tr>\n",
       "  </thead>\n",
       "  <tbody>\n",
       "    <tr>\n",
       "      <th>keto</th>\n",
       "      <td>0</td>\n",
       "      <td>0</td>\n",
       "      <td>17</td>\n",
       "      <td>3</td>\n",
       "      <td>2</td>\n",
       "    </tr>\n",
       "    <tr>\n",
       "      <th>paleo</th>\n",
       "      <td>0</td>\n",
       "      <td>25</td>\n",
       "      <td>11</td>\n",
       "      <td>7</td>\n",
       "      <td>0</td>\n",
       "    </tr>\n",
       "    <tr>\n",
       "      <th>traditional</th>\n",
       "      <td>98</td>\n",
       "      <td>24</td>\n",
       "      <td>13</td>\n",
       "      <td>0</td>\n",
       "      <td>0</td>\n",
       "    </tr>\n",
       "  </tbody>\n",
       "</table>\n",
       "</div>"
      ],
      "text/plain": [
       "energy_level   1   2   3  4  5\n",
       "diet                          \n",
       "keto           0   0  17  3  2\n",
       "paleo          0  25  11  7  0\n",
       "traditional   98  24  13  0  0"
      ]
     },
     "execution_count": 422,
     "metadata": {},
     "output_type": "execute_result"
    }
   ],
   "source": [
    "diets = pd.DataFrame({\n",
    "    'diet': np.random.choice(['traditional', 'paleo', 'keto'], 200, p=[.7,.2,.1])\n",
    "})\n",
    "\n",
    "def energy_level(value):\n",
    "    if value == 'traditional':\n",
    "        return np.random.choice([3,2,1], p=[.1,.2,.7])\n",
    "    if value == 'paleo':\n",
    "        return np.random.choice([4,3,2], p=[.1,.2,.7])\n",
    "    elif value == 'keto':\n",
    "        return np.random.choice([5,4,3], p=[.1,.2,.7])\n",
    "\n",
    "diets['energy_level'] = diets.diet.apply(energy_level)\n",
    "\n",
    "pd.crosstab(diets.diet, diets.energy_level)"
   ]
  },
  {
   "cell_type": "code",
   "execution_count": 423,
   "metadata": {},
   "outputs": [
    {
     "data": {
      "text/html": [
       "<div>\n",
       "<style>\n",
       "    .dataframe thead tr:only-child th {\n",
       "        text-align: right;\n",
       "    }\n",
       "\n",
       "    .dataframe thead th {\n",
       "        text-align: left;\n",
       "    }\n",
       "\n",
       "    .dataframe tbody tr th {\n",
       "        vertical-align: top;\n",
       "    }\n",
       "</style>\n",
       "<table border=\"1\" class=\"dataframe\">\n",
       "  <thead>\n",
       "    <tr style=\"text-align: right;\">\n",
       "      <th></th>\n",
       "      <th>energy_level</th>\n",
       "    </tr>\n",
       "    <tr>\n",
       "      <th>diet</th>\n",
       "      <th></th>\n",
       "    </tr>\n",
       "  </thead>\n",
       "  <tbody>\n",
       "    <tr>\n",
       "      <th>keto</th>\n",
       "      <td>3</td>\n",
       "    </tr>\n",
       "    <tr>\n",
       "      <th>paleo</th>\n",
       "      <td>2</td>\n",
       "    </tr>\n",
       "    <tr>\n",
       "      <th>traditional</th>\n",
       "      <td>1</td>\n",
       "    </tr>\n",
       "  </tbody>\n",
       "</table>\n",
       "</div>"
      ],
      "text/plain": [
       "             energy_level\n",
       "diet                     \n",
       "keto                    3\n",
       "paleo                   2\n",
       "traditional             1"
      ]
     },
     "execution_count": 423,
     "metadata": {},
     "output_type": "execute_result"
    }
   ],
   "source": [
    "diets.groupby('diet').median()"
   ]
  },
  {
   "cell_type": "code",
   "execution_count": 424,
   "metadata": {},
   "outputs": [
    {
     "data": {
      "text/plain": [
       "KruskalResult(statistic=105.61363813546308, pvalue=1.164903290506901e-23)"
      ]
     },
     "execution_count": 424,
     "metadata": {},
     "output_type": "execute_result"
    }
   ],
   "source": [
    "# group data by diet and compare\n",
    "keto = diets[diets.diet == 'keto'].energy_level.tolist()\n",
    "paleo = diets[diets.diet == 'paleo'].energy_level.tolist()\n",
    "traditional = diets[diets.diet == 'traditional'].energy_level.tolist()\n",
    "\n",
    "scis.kruskal(keto,paleo,traditional)"
   ]
  },
  {
   "cell_type": "markdown",
   "metadata": {},
   "source": [
    "**interpretation: these three subsets are reliably different from each other, meanning there is a relation between diet and energy level. Looking at the medians, [keto > paleo > traditional]**"
   ]
  },
  {
   "cell_type": "markdown",
   "metadata": {},
   "source": [
    "### when A has three categories (alternate): decision tree classifier\n",
    "* use energy_level as the independent variable, see if we can predict diet (not intuitive, but for demo only)"
   ]
  },
  {
   "cell_type": "code",
   "execution_count": 425,
   "metadata": {},
   "outputs": [
    {
     "name": "stdout",
     "output_type": "stream",
     "text": [
      "             precision    recall  f1-score   support\n",
      "\n",
      "       keto       0.45      1.00      0.62         9\n",
      "      paleo       0.54      0.50      0.52        14\n",
      "traditional       1.00      0.73      0.84        37\n",
      "\n",
      "avg / total       0.81      0.72      0.73        60\n",
      "\n"
     ]
    }
   ],
   "source": [
    "from sklearn.tree import DecisionTreeClassifier\n",
    "from sklearn.model_selection import train_test_split\n",
    "from sklearn.metrics import classification_report,confusion_matrix\n",
    "\n",
    "X = diets.energy_level.values.reshape(-1, 1)\n",
    "y = diets.diet\n",
    "\n",
    "# split the data\n",
    "X_train, X_test, y_train, y_test = train_test_split(X, y, test_size=0.30)\n",
    "\n",
    "# fit\n",
    "dtree = DecisionTreeClassifier()\n",
    "dtree = dtree.fit(X_train, y_train)\n",
    "\n",
    "# predict\n",
    "predictions = dtree.predict(X_test)\n",
    "print(classification_report(y_test,predictions))"
   ]
  },
  {
   "cell_type": "markdown",
   "metadata": {},
   "source": [
    "**interpretation: our ability to predict diet is better than random, which tells us there is a relation between diet and energy_level. I am not sure what to say about the f1-score needed to reject the null hypothesis**"
   ]
  },
  {
   "cell_type": "markdown",
   "metadata": {},
   "source": [
    "![Flatirons](images/flatirons.jpg)\n",
    "\n",
    "---\n",
    "\n",
    "---\n",
    "\n",
    "# A is nominal, B is interval\n",
    "\n",
    "### common solution: t-test for independent samples\n",
    "* group B along categories of A\n",
    "* the nominal variable is considered the independent variable\n",
    "* valid for small samples (n = 10) provided normal distribution\n",
    "* first check for normality\n",
    "* then check for equivalence of variance using F test\n",
    "* if these conditions are not met, use nonparametric equivalents\n",
    "* alternatives: logistic regression\n",
    "\n",
    "[source](http://www.statsoft.com/Textbook/Basic-Statistics#t-test%20for%20independent%20samples)\n"
   ]
  },
  {
   "cell_type": "code",
   "execution_count": 435,
   "metadata": {},
   "outputs": [
    {
     "data": {
      "text/plain": [
       "<matplotlib.axes._subplots.AxesSubplot at 0x11fa801d0>"
      ]
     },
     "execution_count": 435,
     "metadata": {},
     "output_type": "execute_result"
    },
    {
     "data": {
      "image/png": "[encoded data removed]",
      "text/plain": [
       "<matplotlib.figure.Figure at 0x11efd8dd8>"
      ]
     },
     "metadata": {},
     "output_type": "display_data"
    }
   ],
   "source": [
    "fat = pd.DataFrame({\n",
    "    'profession': np.random.choice(['blue_collar', 'white_collar'], 100, p=[.4,.6])\n",
    "})\n",
    "\n",
    "def fat_percent(value):\n",
    "    if value == 'blue_collar':\n",
    "        return np.random.normal(loc=20, scale=10)\n",
    "    else:\n",
    "        return np.random.normal(loc=25, scale=10)\n",
    "\n",
    "fat['fat_percent'] = fat.profession.apply(fat_percent)\n",
    "\n",
    "sns.boxplot(x='profession', y='fat_percent', data=fat)"
   ]
  },
  {
   "cell_type": "code",
   "execution_count": 505,
   "metadata": {},
   "outputs": [
    {
     "name": "stdout",
     "output_type": "stream",
     "text": [
      "white_collar :  NormaltestResult(statistic=3.8413912373009236, pvalue=0.14650501505545896)\n",
      "blue_collar :  NormaltestResult(statistic=12.313475925059238, pvalue=0.0021191547714074716)\n"
     ]
    }
   ],
   "source": [
    "# check for normality\n",
    "dict_fat = {name: fat[fat.profession == name].fat_percent for name in pd.unique(fat.profession)}\n",
    "\n",
    "for key in dict_fat.keys():\n",
    "    print(key, ': ', scis.normaltest(dict_fat[key]))"
   ]
  },
  {
   "cell_type": "markdown",
   "metadata": {},
   "source": [
    "**interpretation: this test is against the null hypothesis that the distribution is normal. Since p > .05 in both cases, the distributions are normal**"
   ]
  },
  {
   "cell_type": "code",
   "execution_count": 446,
   "metadata": {},
   "outputs": [
    {
     "data": {
      "text/plain": [
       "LeveneResult(statistic=2.5898289081517998, pvalue=0.11076871269939367)"
      ]
     },
     "execution_count": 446,
     "metadata": {},
     "output_type": "execute_result"
    }
   ],
   "source": [
    "# check for equal variance\n",
    "scis.levene(white, blue)"
   ]
  },
  {
   "cell_type": "markdown",
   "metadata": {},
   "source": [
    "**interpretation: this test is against the null hypothesis that the variances are equal. Since p > .05, the variances are sufficiently equal**"
   ]
  },
  {
   "cell_type": "code",
   "execution_count": 445,
   "metadata": {},
   "outputs": [
    {
     "data": {
      "text/plain": [
       "Ttest_indResult(statistic=1.4682168749683584, pvalue=0.14524775450813582)"
      ]
     },
     "execution_count": 445,
     "metadata": {},
     "output_type": "execute_result"
    }
   ],
   "source": [
    "# run ttest\n",
    "scis.ttest_ind(white, blue, axis=0, equal_var=True)"
   ]
  },
  {
   "cell_type": "markdown",
   "metadata": {},
   "source": [
    "**interpretation: we cannot reject the null hypothesis that white_collar and blue_collar have different fat_percentages. Thus there is no significant relation between profession and fat_percent.**"
   ]
  },
  {
   "cell_type": "markdown",
   "metadata": {},
   "source": [
    "### for A with 3 or more categories: one-way ANOVA\n",
    "* aka analysis of variance\n",
    "* goal is to test for significant differences between means\n",
    "* when you reject the null hypothesis, all you are saying is that there are at least 2 groups whose means differ\n",
    "    * To determine which specific groups differed from each other, you need to use a post hoc test\n",
    "* note: the reason you don't do multiple t-tests is that you increase the error collectively (i.e. each test has 5% error... it adds up)\n",
    "* assumptions:\n",
    "    * dependent variable is normally distributed in all subsets (else use Kruskal-Wallis)\n",
    "    * the variances across subsets are equal (else use Welch test)\n",
    "    * observations are independent\n",
    "    \n",
    "[source_theory](https://statistics.laerd.com/statistical-guides/one-way-anova-statistical-guide.php)    \n",
    "[source_implemetentation](http://cleverowl.uk/2015/07/01/using-one-way-anova-and-tukeys-test-to-compare-data-sets/)"
   ]
  },
  {
   "cell_type": "code",
   "execution_count": 494,
   "metadata": {},
   "outputs": [
    {
     "data": {
      "text/plain": [
       "<matplotlib.axes._subplots.AxesSubplot at 0x12179c0b8>"
      ]
     },
     "execution_count": 494,
     "metadata": {},
     "output_type": "execute_result"
    },
    {
     "data": {
      "image/png": "[encoded data removed]",
      "text/plain": [
       "<matplotlib.figure.Figure at 0x1217979b0>"
      ]
     },
     "metadata": {},
     "output_type": "display_data"
    }
   ],
   "source": [
    "diets = pd.DataFrame({\n",
    "    'diet': np.random.choice(['traditional', 'paleo', 'keto'], 200, p=[.7,.2,.1])\n",
    "})\n",
    "\n",
    "def energy_level(value):\n",
    "    if value == 'traditional':\n",
    "        return np.random.normal(3, 1)\n",
    "    if value == 'paleo':\n",
    "        return np.random.normal(4, 1)\n",
    "    elif value == 'keto':\n",
    "        return np.random.normal(5, 1)\n",
    "\n",
    "diets['energy_level'] = diets.diet.apply(energy_level)\n",
    "\n",
    "sns.boxplot(x='diet', y='energy_level', data=diets)"
   ]
  },
  {
   "cell_type": "code",
   "execution_count": 504,
   "metadata": {},
   "outputs": [
    {
     "name": "stdout",
     "output_type": "stream",
     "text": [
      "traditional :  NormaltestResult(statistic=0.30464097237556098, pvalue=0.85871303097091134)\n",
      "paleo :  NormaltestResult(statistic=4.5355610904349328, pvalue=0.10354173144047815)\n",
      "keto :  NormaltestResult(statistic=0.38173643123597878, pvalue=0.82624146669787057)\n"
     ]
    }
   ],
   "source": [
    "# check for normality\n",
    "dict_diets = {name: diets[diets.diet == name].energy_level for name in pd.unique(diets.diet)}\n",
    "\n",
    "for key in dict_diets.keys():\n",
    "    print(key, ': ', scis.normaltest(dict_diets[key]))"
   ]
  },
  {
   "cell_type": "markdown",
   "metadata": {},
   "source": [
    "**all distributions are normal**"
   ]
  },
  {
   "cell_type": "code",
   "execution_count": 516,
   "metadata": {},
   "outputs": [
    {
     "data": {
      "text/plain": [
       "LeveneResult(statistic=1.9343948076234341, pvalue=0.14724674667655602)"
      ]
     },
     "execution_count": 516,
     "metadata": {},
     "output_type": "execute_result"
    }
   ],
   "source": [
    "# check for equal variance\n",
    "scis.levene(dict_diets['traditional'],dict_diets['keto'],dict_diets['paleo'])"
   ]
  },
  {
   "cell_type": "markdown",
   "metadata": {},
   "source": [
    "**interpretation: this test is against the null hypothesis that the variances are equal. Since p > .05, the variances are sufficiently equal**"
   ]
  },
  {
   "cell_type": "code",
   "execution_count": 517,
   "metadata": {},
   "outputs": [
    {
     "data": {
      "text/plain": [
       "F_onewayResult(statistic=55.829320645877161, pvalue=6.1843908226603421e-20)"
      ]
     },
     "execution_count": 517,
     "metadata": {},
     "output_type": "execute_result"
    }
   ],
   "source": [
    "# run ANOVA\n",
    "scis.f_oneway(dict_diets['traditional'],dict_diets['keto'],dict_diets['paleo'])"
   ]
  },
  {
   "cell_type": "markdown",
   "metadata": {},
   "source": [
    "**interpretation: at least two of these are different from each other**"
   ]
  },
  {
   "cell_type": "code",
   "execution_count": 519,
   "metadata": {},
   "outputs": [
    {
     "name": "stdout",
     "output_type": "stream",
     "text": [
      "Multiple Comparison of Means - Tukey HSD,FWER=0.05\n",
      "==================================================\n",
      "group1    group2   meandiff  lower   upper  reject\n",
      "--------------------------------------------------\n",
      " keto     paleo    -0.8019  -1.4843 -0.1195  True \n",
      " keto  traditional -2.1871  -2.7679 -1.6063  True \n",
      "paleo  traditional -1.3852  -1.8486 -0.9218  True \n",
      "--------------------------------------------------\n",
      "['keto' 'paleo' 'traditional']\n"
     ]
    }
   ],
   "source": [
    "# run post hoc test to determine which pairs are different\n",
    "\n",
    "# If your data met the assumption of homogeneity of variances, \n",
    "# use Tukey's honestly significant difference (HSD) post hoc test\n",
    "\n",
    "# compares all possible pairs and we can use it to precisely identify difference \n",
    "# between two means that's greater than the expected standard error.\n",
    "\n",
    "from statsmodels.stats.multicomp import pairwise_tukeyhsd\n",
    "from statsmodels.stats.multicomp import MultiComparison\n",
    "\n",
    "mc = MultiComparison(diets.energy_level, diets.diet)\n",
    "result = mc.tukeyhsd()\n",
    " \n",
    "print(result)\n",
    "print(mc.groupsunique)"
   ]
  },
  {
   "cell_type": "markdown",
   "metadata": {},
   "source": [
    "**each category is statistically significantly different from the other two. Thus we can state the comparison that there is a reliable relationship between diet and energy_level, notably keto > paleo > traditional**"
   ]
  },
  {
   "cell_type": "markdown",
   "metadata": {},
   "source": [
    "### when B is nonparametric: Mann Whitney U\n",
    "* note that if sample size is higher than 100, some researchers won't care if the data is non-normal\n",
    "\n",
    "[source](https://en.wikipedia.org/wiki/Mann%E2%80%93Whitney_U_test)"
   ]
  },
  {
   "cell_type": "code",
   "execution_count": 486,
   "metadata": {},
   "outputs": [
    {
     "data": {
      "text/plain": [
       "<matplotlib.axes._subplots.AxesSubplot at 0x12140fbe0>"
      ]
     },
     "execution_count": 486,
     "metadata": {},
     "output_type": "execute_result"
    },
    {
     "data": {
      "image/png": "[encoded data removed]",
      "text/plain": [
       "<matplotlib.figure.Figure at 0x121292278>"
      ]
     },
     "metadata": {},
     "output_type": "display_data"
    }
   ],
   "source": [
    "fat = pd.DataFrame({\n",
    "    'profession': np.random.choice(['blue_collar', 'white_collar'], 50, p=[.5,.5])\n",
    "})\n",
    "\n",
    "def fat_percent(value):\n",
    "    if value == 'blue_collar':\n",
    "        return np.random.uniform(low=10, high=30)\n",
    "    else:\n",
    "        return np.random.uniform(low=20, high=40)\n",
    "\n",
    "fat['fat_percent'] = fat.profession.apply(fat_percent)\n",
    "\n",
    "sns.boxplot(x='profession', y='fat_percent', data=fat)"
   ]
  },
  {
   "cell_type": "code",
   "execution_count": 487,
   "metadata": {},
   "outputs": [
    {
     "name": "stdout",
     "output_type": "stream",
     "text": [
      "white_normal:  NormaltestResult(statistic=3.8413912373009236, pvalue=0.14650501505545896)\n",
      "blue_normal:  NormaltestResult(statistic=12.313475925059238, pvalue=0.0021191547714074716)\n"
     ]
    },
    {
     "data": {
      "image/png": "[encoded data removed]",
      "text/plain": [
       "<matplotlib.figure.Figure at 0x1212860f0>"
      ]
     },
     "metadata": {},
     "output_type": "display_data"
    }
   ],
   "source": [
    "# check for normality\n",
    "white = fat[fat.profession == 'white_collar'].fat_percent\n",
    "blue = fat[fat.profession == 'blue_collar'].fat_percent\n",
    "\n",
    "sns.distplot(blue, label='blue', kde=False)\n",
    "sns.distplot(white, label='white', kde=False)\n",
    "plt.legend()\n",
    "\n",
    "print('white_normal: ', scis.normaltest(white))\n",
    "print('blue_normal: ', scis.normaltest(blue))"
   ]
  },
  {
   "cell_type": "markdown",
   "metadata": {},
   "source": [
    "**interpretation: we can reject the null hypothesis only for blue, however because of the small sample size we can still decide to use a nonparametric test**\n",
    "* to me it makes more sense that the null hypothesis should be that the distribution is non-normal, because nonparametric tests don't make the assumption of normality"
   ]
  },
  {
   "cell_type": "code",
   "execution_count": 488,
   "metadata": {},
   "outputs": [
    {
     "data": {
      "text/plain": [
       "MannwhitneyuResult(statistic=99.0, pvalue=1.8423659719470537e-05)"
      ]
     },
     "execution_count": 488,
     "metadata": {},
     "output_type": "execute_result"
    }
   ],
   "source": [
    "# run the comparison test\n",
    "# note that the scipy implementation of mannwhitneyu is different from scipy ranksums\n",
    "scis.mannwhitneyu(white, blue)"
   ]
  },
  {
   "cell_type": "markdown",
   "metadata": {},
   "source": [
    "**interpretation: fat percent is different between blue and white collar.**"
   ]
  },
  {
   "cell_type": "markdown",
   "metadata": {},
   "source": [
    "### when A has three or more categories and B is nonparametric: Kruskal-Wallis analysis of ranks\n",
    "* see implementation above\n",
    "\n",
    "[source](http://www.statsoft.com/Textbook/Nonparametric-Statistics)"
   ]
  },
  {
   "cell_type": "markdown",
   "metadata": {},
   "source": [
    "### when categories are dependent (e.g. before and after): t-test for dependent samples"
   ]
  },
  {
   "cell_type": "markdown",
   "metadata": {},
   "source": [
    "![San Francisco](images/sfbay.jpg)\n",
    "\n",
    "---\n",
    "\n",
    "---\n",
    "\n",
    "# A and B are ordinal\n",
    "### Spearman R\n",
    "The Spearman rank-order correlation is a nonparametric measure of magnitude and direction of the relationship between two variables\n",
    "* it is the alternative to the Pearson correlation, assuming only that the two variables are ordinal\n",
    "* also works for interval and ratio variables\n",
    "* while the Pearson correlation looks at linear relationship, Spearman looks at monotonic relationship\n",
    "    * monotonic is a generalization of linear: \"as A increases, B increases or decreases\"\n",
    "* varies from -1 to +1, where the extremes imply an exact monotonic relationship\n",
    "* alternatives: Kendall tau, Gamma (when there are many tied observations)\n",
    "\n",
    "[docs](https://statistics.laerd.com/statistical-guides/spearmans-rank-order-correlation-statistical-guide.php)"
   ]
  },
  {
   "cell_type": "code",
   "execution_count": 232,
   "metadata": {},
   "outputs": [
    {
     "data": {
      "text/html": [
       "<div>\n",
       "<style>\n",
       "    .dataframe thead tr:only-child th {\n",
       "        text-align: right;\n",
       "    }\n",
       "\n",
       "    .dataframe thead th {\n",
       "        text-align: left;\n",
       "    }\n",
       "\n",
       "    .dataframe tbody tr th {\n",
       "        vertical-align: top;\n",
       "    }\n",
       "</style>\n",
       "<table border=\"1\" class=\"dataframe\">\n",
       "  <thead>\n",
       "    <tr style=\"text-align: right;\">\n",
       "      <th></th>\n",
       "      <th>workout_intensity</th>\n",
       "      <th>pain</th>\n",
       "    </tr>\n",
       "  </thead>\n",
       "  <tbody>\n",
       "    <tr>\n",
       "      <th>0</th>\n",
       "      <td>2</td>\n",
       "      <td>1</td>\n",
       "    </tr>\n",
       "    <tr>\n",
       "      <th>1</th>\n",
       "      <td>1</td>\n",
       "      <td>2</td>\n",
       "    </tr>\n",
       "    <tr>\n",
       "      <th>2</th>\n",
       "      <td>3</td>\n",
       "      <td>3</td>\n",
       "    </tr>\n",
       "    <tr>\n",
       "      <th>3</th>\n",
       "      <td>1</td>\n",
       "      <td>3</td>\n",
       "    </tr>\n",
       "    <tr>\n",
       "      <th>4</th>\n",
       "      <td>2</td>\n",
       "      <td>1</td>\n",
       "    </tr>\n",
       "  </tbody>\n",
       "</table>\n",
       "</div>"
      ],
      "text/plain": [
       "   workout_intensity  pain\n",
       "0                  2     1\n",
       "1                  1     2\n",
       "2                  3     3\n",
       "3                  1     3\n",
       "4                  2     1"
      ]
     },
     "execution_count": 232,
     "metadata": {},
     "output_type": "execute_result"
    }
   ],
   "source": [
    "injuries = pd.DataFrame({\n",
    "    'workout_intensity': np.random.choice([3, 2, 1], 200, p=[.3,.3,.4])\n",
    "})\n",
    "\n",
    "def pain(value):\n",
    "    if value == 1:\n",
    "        return np.random.choice([3, 2, 1], p=[.1,.3,.6])\n",
    "    if value == 2:\n",
    "        return np.random.choice([3, 2, 1], p=[.2,.4,.4])\n",
    "    else:\n",
    "        return np.random.choice([3, 2, 1], p=[.5,.2,.3])\n",
    "\n",
    "injuries['pain'] = injuries.workout_intensity.apply(pain)\n",
    "injuries.head()"
   ]
  },
  {
   "cell_type": "code",
   "execution_count": 233,
   "metadata": {},
   "outputs": [
    {
     "data": {
      "text/html": [
       "<div>\n",
       "<style>\n",
       "    .dataframe thead tr:only-child th {\n",
       "        text-align: right;\n",
       "    }\n",
       "\n",
       "    .dataframe thead th {\n",
       "        text-align: left;\n",
       "    }\n",
       "\n",
       "    .dataframe tbody tr th {\n",
       "        vertical-align: top;\n",
       "    }\n",
       "</style>\n",
       "<table border=\"1\" class=\"dataframe\">\n",
       "  <thead>\n",
       "    <tr style=\"text-align: right;\">\n",
       "      <th>pain</th>\n",
       "      <th>1</th>\n",
       "      <th>2</th>\n",
       "      <th>3</th>\n",
       "    </tr>\n",
       "    <tr>\n",
       "      <th>workout_intensity</th>\n",
       "      <th></th>\n",
       "      <th></th>\n",
       "      <th></th>\n",
       "    </tr>\n",
       "  </thead>\n",
       "  <tbody>\n",
       "    <tr>\n",
       "      <th>1</th>\n",
       "      <td>0.225</td>\n",
       "      <td>0.115</td>\n",
       "      <td>0.040</td>\n",
       "    </tr>\n",
       "    <tr>\n",
       "      <th>2</th>\n",
       "      <td>0.105</td>\n",
       "      <td>0.160</td>\n",
       "      <td>0.055</td>\n",
       "    </tr>\n",
       "    <tr>\n",
       "      <th>3</th>\n",
       "      <td>0.075</td>\n",
       "      <td>0.065</td>\n",
       "      <td>0.160</td>\n",
       "    </tr>\n",
       "  </tbody>\n",
       "</table>\n",
       "</div>"
      ],
      "text/plain": [
       "pain                   1      2      3\n",
       "workout_intensity                     \n",
       "1                  0.225  0.115  0.040\n",
       "2                  0.105  0.160  0.055\n",
       "3                  0.075  0.065  0.160"
      ]
     },
     "execution_count": 233,
     "metadata": {},
     "output_type": "execute_result"
    }
   ],
   "source": [
    "pd.crosstab(injuries.workout_intensity, injuries.pain, normalize=True)"
   ]
  },
  {
   "cell_type": "code",
   "execution_count": 234,
   "metadata": {},
   "outputs": [
    {
     "data": {
      "text/plain": [
       "SpearmanrResult(correlation=0.3847664813020491, pvalue=1.8509169715046611e-08)"
      ]
     },
     "execution_count": 234,
     "metadata": {},
     "output_type": "execute_result"
    }
   ],
   "source": [
    "scis.spearmanr(injuries)"
   ]
  },
  {
   "cell_type": "markdown",
   "metadata": {},
   "source": [
    "**interpretation: there is a positive correlation between workout intensity and pain level. this relation is reliable, with a low p value**"
   ]
  },
  {
   "cell_type": "markdown",
   "metadata": {},
   "source": [
    "---\n",
    "\n",
    "---\n",
    "\n",
    "# A is ordinal, B is interval\n",
    "* use Spearman r, as implemented above"
   ]
  },
  {
   "cell_type": "markdown",
   "metadata": {},
   "source": [
    "![Princeton](images/princeton.jpg)\n",
    "\n",
    "\n",
    "---\n",
    "\n",
    "---\n",
    "\n",
    "# A and B are interval (ratio)\n",
    "### common solution: Pearson r\n",
    "* aka linear correlation, product-moment correlation\n",
    "* determines the level to which variables are proportional to each other\n",
    "* assumes the variables are at least interval\n",
    "* to obtain magnitude of relation, square the correlation coefficient\n",
    "* note: correlation coefficient is sensitive to sample size\n",
    "* always trim outliers, because they have a strong influence on the slope of the regression line\n",
    "* note: correlation coefficients are not additive, and cannot be averaged. you must square them first"
   ]
  },
  {
   "cell_type": "code",
   "execution_count": 271,
   "metadata": {
    "scrolled": false
   },
   "outputs": [
    {
     "data": {
      "text/plain": [
       "<seaborn.axisgrid.JointGrid at 0x10d95a5c0>"
      ]
     },
     "execution_count": 271,
     "metadata": {},
     "output_type": "execute_result"
    },
    {
     "data": {
      "image/png": "[encoded data removed]",
      "text/plain": [
       "<matplotlib.figure.Figure at 0x10e0f3b38>"
      ]
     },
     "metadata": {},
     "output_type": "display_data"
    }
   ],
   "source": [
    "diet = pd.DataFrame({\n",
    "    'daily_calories': np.round(np.random.normal(loc=2200,scale=200, size=100))\n",
    "})\n",
    "\n",
    "def platelets(value):\n",
    "    return value * (np.random.normal(1, scale=.05))\n",
    "\n",
    "diet['platelets'] = diet.daily_calories.apply(platelets)\n",
    "sns.jointplot(x='daily_calories', y='platelets', data=diet, kind=\"reg\")"
   ]
  },
  {
   "cell_type": "code",
   "execution_count": 266,
   "metadata": {},
   "outputs": [
    {
     "data": {
      "text/plain": [
       "(0.87259753976707177, 2.9278280169245875e-32)"
      ]
     },
     "execution_count": 266,
     "metadata": {},
     "output_type": "execute_result"
    }
   ],
   "source": [
    "scis.pearsonr(diet.daily_calories, diet.platelets)\n",
    "# correlation coefficient, pvalue"
   ]
  },
  {
   "cell_type": "markdown",
   "metadata": {},
   "source": [
    "**interpretation: there is a strong positive correlation between daily calories and platelets, and this relationship is reliable**"
   ]
  },
  {
   "cell_type": "markdown",
   "metadata": {},
   "source": [
    "### for nonlinear relations\n",
    "* no single solution, depends on the curve\n",
    "* If the curve is monotonous (continuously decreasing or increasing) \n",
    "    1. transform one or both of the variables to remove the curvilinearity (e.g. log) and then Pearson r\n",
    "    2. use nonparametric stat (e.g. Spearman r) that assumes data is ordinal only (ignores the curve)"
   ]
  },
  {
   "cell_type": "code",
   "execution_count": 336,
   "metadata": {},
   "outputs": [
    {
     "data": {
      "text/plain": [
       "<seaborn.axisgrid.JointGrid at 0x116e12278>"
      ]
     },
     "execution_count": 336,
     "metadata": {},
     "output_type": "execute_result"
    },
    {
     "data": {
      "image/png": "[encoded data removed]",
      "text/plain": [
       "<matplotlib.figure.Figure at 0x118e5b828>"
      ]
     },
     "metadata": {},
     "output_type": "display_data"
    }
   ],
   "source": [
    "exercise = pd.DataFrame({\n",
    "    'age': np.round(np.random.randint(10,80, size=200))\n",
    "})\n",
    "\n",
    "def heart_rate(value):\n",
    "    return (value/5)**2 + (np.random.normal(0, scale=10))\n",
    "\n",
    "exercise['heart_rate'] = exercise.age.apply(heart_rate)\n",
    "# first try linear model\n",
    "sns.jointplot(x='age',  y='heart_rate', data=exercise, kind='reg')"
   ]
  },
  {
   "cell_type": "markdown",
   "metadata": {},
   "source": [
    "it doesn't look like this relationship is linear. using the pearson r is not appropriate here."
   ]
  },
  {
   "cell_type": "markdown",
   "metadata": {},
   "source": [
    "#### method 1: transform curve to linear\n",
    "Note: you can use the builtin methods in seaborn.regplot"
   ]
  },
  {
   "cell_type": "code",
   "execution_count": 337,
   "metadata": {
    "scrolled": false
   },
   "outputs": [
    {
     "name": "stderr",
     "output_type": "stream",
     "text": [
      "/Users/nico/code/pydata-env/lib/python3.6/site-packages/ipykernel_launcher.py:4: RuntimeWarning: invalid value encountered in sqrt\n",
      "  after removing the cwd from sys.path.\n"
     ]
    },
    {
     "data": {
      "text/plain": [
       "<seaborn.axisgrid.JointGrid at 0x116e12550>"
      ]
     },
     "execution_count": 337,
     "metadata": {},
     "output_type": "execute_result"
    },
    {
     "data": {
      "image/png": "[encoded data removed]",
      "text/plain": [
       "<matplotlib.figure.Figure at 0x116e12f60>"
      ]
     },
     "metadata": {},
     "output_type": "display_data"
    }
   ],
   "source": [
    "# we can tell this relationship is not quite linear\n",
    "# convert to linear by taking sqrt\n",
    "\n",
    "exercise['sqrt_heart_rate'] = np.sqrt(exercise.heart_rate)\n",
    "sns.jointplot(x='age',  y='sqrt_heart_rate', data=exercise, kind='reg')"
   ]
  },
  {
   "cell_type": "markdown",
   "metadata": {},
   "source": [
    "#### method 2: use nonparametric test - Spearman r"
   ]
  },
  {
   "cell_type": "code",
   "execution_count": 338,
   "metadata": {},
   "outputs": [
    {
     "data": {
      "text/plain": [
       "SpearmanrResult(correlation=0.98495417217272352, pvalue=6.3250930111553433e-153)"
      ]
     },
     "execution_count": 338,
     "metadata": {},
     "output_type": "execute_result"
    }
   ],
   "source": [
    "scis.spearmanr(exercise[['age', 'heart_rate']])"
   ]
  },
  {
   "cell_type": "markdown",
   "metadata": {},
   "source": [
    "**interpretation: note that this coef is closer to the 'correct' sqrt-transformed linear regression than the non-transformed one.**"
   ]
  },
  {
   "cell_type": "markdown",
   "metadata": {},
   "source": [
    "### for non-homogeneous groups: K means clustering\n",
    "* if the scatterplot of two variables forms two clusters, a linear regression will be based on where the clusters are relative to each other, not the relation between the two variables. \n",
    "* in this scenario, run your regressions on each cluster individually (cluster analysis)."
   ]
  },
  {
   "cell_type": "code",
   "execution_count": 388,
   "metadata": {},
   "outputs": [
    {
     "data": {
      "text/plain": [
       "<seaborn.axisgrid.JointGrid at 0x11c708780>"
      ]
     },
     "execution_count": 388,
     "metadata": {},
     "output_type": "execute_result"
    },
    {
     "data": {
      "image/png": "[encoded data removed]",
      "text/plain": [
       "<matplotlib.figure.Figure at 0x11c708320>"
      ]
     },
     "metadata": {},
     "output_type": "display_data"
    }
   ],
   "source": [
    "weights = np.concatenate([\n",
    "    np.round(np.random.normal(loc=100,scale=30, size=100)),\n",
    "    np.round(np.random.normal(loc=250, scale=30, size=100))   \n",
    "])\n",
    "\n",
    "more_exercise = pd.DataFrame({\n",
    "    'weight': weights\n",
    "})\n",
    "\n",
    "def heart_rate(value):\n",
    "    if value < 200:\n",
    "        return 100 + np.random.normal(10, scale=60)\n",
    "    else:\n",
    "        return 250 + np.random.normal(10, scale=60)\n",
    "\n",
    "more_exercise['heart_rate'] = more_exercise.weight.apply(heart_rate)\n",
    "# first try linear model\n",
    "sns.jointplot(x='weight',  y='heart_rate', data=more_exercise, kind='reg')"
   ]
  },
  {
   "cell_type": "markdown",
   "metadata": {},
   "source": [
    "Looks like this is a case for clustering!"
   ]
  },
  {
   "cell_type": "code",
   "execution_count": 397,
   "metadata": {
    "scrolled": true
   },
   "outputs": [
    {
     "data": {
      "text/plain": [
       "<matplotlib.collections.PathCollection at 0x11d13a978>"
      ]
     },
     "execution_count": 397,
     "metadata": {},
     "output_type": "execute_result"
    },
    {
     "data": {
      "image/png": "[encoded data removed]",
      "text/plain": [
       "<matplotlib.figure.Figure at 0x11d4a3860>"
      ]
     },
     "metadata": {},
     "output_type": "display_data"
    }
   ],
   "source": [
    "from sklearn.cluster import KMeans\n",
    "\n",
    "# find the clusters, assume there are two\n",
    "kmeans = KMeans(n_clusters=2)\n",
    "kmeans.fit(more_exercise)\n",
    "more_exercise['labels'] = kmeans.labels_\n",
    "\n",
    "# show the clustering to confirm visually\n",
    "plt.scatter(\n",
    "    x=more_exercise.weight, \n",
    "    y=more_exercise.heart_rate, \n",
    "    c=more_exercise['labels'],\n",
    "    cmap='flag'\n",
    ")"
   ]
  },
  {
   "cell_type": "markdown",
   "metadata": {},
   "source": [
    "#### redo linear regression with separate clusters"
   ]
  },
  {
   "cell_type": "code",
   "execution_count": 402,
   "metadata": {},
   "outputs": [
    {
     "data": {
      "text/plain": [
       "<seaborn.axisgrid.JointGrid at 0x11d03e198>"
      ]
     },
     "execution_count": 402,
     "metadata": {},
     "output_type": "execute_result"
    },
    {
     "data": {
      "image/png": "[encoded data removed]",
      "text/plain": [
       "<matplotlib.figure.Figure at 0x11d037160>"
      ]
     },
     "metadata": {},
     "output_type": "display_data"
    }
   ],
   "source": [
    "sns.jointplot(x='weight',  \n",
    "              y='heart_rate', \n",
    "              data=more_exercise[more_exercise['labels']== 1],\n",
    "              kind='reg'\n",
    "             \n",
    ")"
   ]
  },
  {
   "cell_type": "code",
   "execution_count": 404,
   "metadata": {},
   "outputs": [
    {
     "data": {
      "text/plain": [
       "<seaborn.axisgrid.JointGrid at 0x11de69978>"
      ]
     },
     "execution_count": 404,
     "metadata": {},
     "output_type": "execute_result"
    },
    {
     "data": {
      "image/png": "[encoded data removed]",
      "text/plain": [
       "<matplotlib.figure.Figure at 0x11de69b70>"
      ]
     },
     "metadata": {},
     "output_type": "display_data"
    }
   ],
   "source": [
    "sns.jointplot(x='weight',  \n",
    "           y='heart_rate', \n",
    "           data=more_exercise[more_exercise['labels']== 0],\n",
    "           kind='reg'\n",
    ")"
   ]
  },
  {
   "cell_type": "code",
   "execution_count": null,
   "metadata": {},
   "outputs": [],
   "source": []
  }
 ],
 "metadata": {
  "kernelspec": {
   "display_name": "Python 3",
   "language": "python",
   "name": "python3"
  },
  "language_info": {
   "codemirror_mode": {
    "name": "ipython",
    "version": 3
   },
   "file_extension": ".py",
   "mimetype": "text/x-python",
   "name": "python",
   "nbconvert_exporter": "python",
   "pygments_lexer": "ipython3",
   "version": "3.6.2"
  },
  "toc": {
   "nav_menu": {},
   "number_sections": false,
   "sideBar": true,
   "skip_h1_title": false,
   "toc_cell": true,
   "toc_position": {},
   "toc_section_display": "block",
   "toc_window_display": false
  }
 },
 "nbformat": 4,
 "nbformat_minor": 2
}
